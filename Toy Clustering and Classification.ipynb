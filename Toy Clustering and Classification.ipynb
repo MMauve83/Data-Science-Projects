{
 "cells": [
  {
   "cell_type": "markdown",
   "metadata": {},
   "source": [
    "# Toy Clustering and Classification"
   ]
  },
  {
   "cell_type": "markdown",
   "metadata": {},
   "source": [
    "## Project Description"
   ]
  },
  {
   "cell_type": "markdown",
   "metadata": {},
   "source": [
    "This project is the continuation of a previous project for products classification requested by a client based in China. The company operations are exportation of different kinds of toys from several suppliers in China to multinational supermarket chains established in LATAM. From the previous project, we have already found an insight that we might classify products, for the purppose of understanding, if they tend to be **weight-related cargoes** (*more weight than volume*)or **volume-related cargoes** (*more volume than weight*)."
   ]
  },
  {
   "cell_type": "code",
   "execution_count": 1,
   "metadata": {},
   "outputs": [],
   "source": [
    "import pandas as pd\n",
    "import numpy as np\n",
    "import os\n",
    "import matplotlib.pyplot as plt"
   ]
  },
  {
   "cell_type": "code",
   "execution_count": 2,
   "metadata": {},
   "outputs": [
    {
     "name": "stdout",
     "output_type": "stream",
     "text": [
      "/Users/mariomauvecin/Desktop\n"
     ]
    }
   ],
   "source": [
    "path = os.getcwd()\n",
    "print(path)"
   ]
  },
  {
   "cell_type": "code",
   "execution_count": 3,
   "metadata": {},
   "outputs": [],
   "source": [
    "os.chdir('/Users/mariomauvecin/Desktop/DATA SCIENCE/DATA SCIENCE PROJECTS/TOY EXPORTATION') #Changing the Directory"
   ]
  },
  {
   "cell_type": "code",
   "execution_count": 4,
   "metadata": {},
   "outputs": [
    {
     "data": {
      "text/plain": [
       "'/Users/mariomauvecin/Desktop/DATA SCIENCE/DATA SCIENCE PROJECTS/TOY EXPORTATION'"
      ]
     },
     "execution_count": 4,
     "metadata": {},
     "output_type": "execute_result"
    }
   ],
   "source": [
    "os.getcwd()"
   ]
  },
  {
   "cell_type": "code",
   "execution_count": 5,
   "metadata": {},
   "outputs": [],
   "source": [
    "toy_df = pd.read_csv('Suppliers_Catalog.csv', sep=';', header= 0, decimal = '.') "
   ]
  },
  {
   "cell_type": "code",
   "execution_count": 6,
   "metadata": {},
   "outputs": [
    {
     "data": {
      "text/plain": [
       "(10000, 17)"
      ]
     },
     "execution_count": 6,
     "metadata": {},
     "output_type": "execute_result"
    }
   ],
   "source": [
    "toy_df.shape"
   ]
  },
  {
   "cell_type": "code",
   "execution_count": 7,
   "metadata": {},
   "outputs": [
    {
     "data": {
      "text/plain": [
       "Index(['Item No#', 'Description', 'Package', 'INNER', 'Qty/Ctn', 'CBM',\n",
       "       'Carton long (cm)', 'Carton width', 'Carton height', 'Product long',\n",
       "       'Product width', 'Product height', 'Packaging long', 'Packaging width',\n",
       "       'Packaging height', 'GW(KGS)', 'NW(KGS)'],\n",
       "      dtype='object')"
      ]
     },
     "execution_count": 7,
     "metadata": {},
     "output_type": "execute_result"
    }
   ],
   "source": [
    "toy_df.columns"
   ]
  },
  {
   "cell_type": "code",
   "execution_count": 9,
   "metadata": {},
   "outputs": [
    {
     "data": {
      "text/plain": [
       "Item No#             object\n",
       "Description          object\n",
       "Package              object\n",
       "INNER               float64\n",
       "Qty/Ctn               int64\n",
       "CBM                  object\n",
       "Carton long (cm)    float64\n",
       "Carton width        float64\n",
       "Carton height       float64\n",
       "Product long         object\n",
       "Product width        object\n",
       "Product height      float64\n",
       "Packaging long      float64\n",
       "Packaging width     float64\n",
       "Packaging height     object\n",
       "GW(KGS)             float64\n",
       "NW(KGS)             float64\n",
       "dtype: object"
      ]
     },
     "execution_count": 9,
     "metadata": {},
     "output_type": "execute_result"
    }
   ],
   "source": [
    "toy_df.dtypes"
   ]
  },
  {
   "cell_type": "code",
   "execution_count": 10,
   "metadata": {},
   "outputs": [],
   "source": [
    "toy_df['CBM'] = toy_df['CBM'].str.replace(',', '.').astype(float)\n",
    "toy_df['Product long'] = toy_df['Product long'].str.replace(',', '.').astype(float)\n",
    "toy_df['Product width'] = toy_df['Product width'].str.replace(',', '.').astype(float)\n",
    "toy_df['Packaging height'] = toy_df['Packaging height'].str.replace(',', '.').astype(float)"
   ]
  },
  {
   "cell_type": "code",
   "execution_count": 11,
   "metadata": {},
   "outputs": [
    {
     "data": {
      "text/plain": [
       "0    3.5\n",
       "1    2.0\n",
       "2    2.0\n",
       "3    2.0\n",
       "4    2.0\n",
       "Name: Package_weight, dtype: float64"
      ]
     },
     "execution_count": 11,
     "metadata": {},
     "output_type": "execute_result"
    }
   ],
   "source": [
    "def Package_weight(x, y):\n",
    "    if x > 0:\n",
    "        res = y - x \n",
    "    else:\n",
    "        res = 0\n",
    "    return res\n",
    "\n",
    "toy_df['Package_weight'] = toy_df.apply(lambda x: Package_weight(x['NW(KGS)'], x['GW(KGS)']), axis = 1)\n",
    "toy_df['Package_weight'].head()"
   ]
  },
  {
   "cell_type": "markdown",
   "metadata": {},
   "source": [
    "In the previous project, we have seen the relations between weights and the packages types. A international standard meassure to arrange transport and calculate freights is the __Stowage Factor__ that is the coefficient between the weight of a product and the volume. "
   ]
  },
  {
   "cell_type": "markdown",
   "metadata": {},
   "source": [
    "#### Creating and calculating the _stowage factor_ variable."
   ]
  },
  {
   "cell_type": "code",
   "execution_count": 12,
   "metadata": {},
   "outputs": [
    {
     "data": {
      "text/plain": [
       "0    13.444444\n",
       "1    10.526316\n",
       "2    10.526316\n",
       "3    12.411765\n",
       "4    12.411765\n",
       "Name: Stowage_Factor, dtype: float64"
      ]
     },
     "execution_count": 12,
     "metadata": {},
     "output_type": "execute_result"
    }
   ],
   "source": [
    "def Stowage_Factor (x, y):\n",
    "    if y > 0:\n",
    "        res = x / (y / 1000) # Stowage Factor (SF) = Volume / Weight. Meassured the volume in Cubic Meters and the Weight in Tons\n",
    "    else:\n",
    "        res = 0\n",
    "    return res\n",
    "\n",
    "toy_df['Stowage_Factor'] = toy_df.apply(lambda x: Stowage_Factor(x['CBM'], x['GW(KGS)']), axis = 1)\n",
    "toy_df['Stowage_Factor'].head()"
   ]
  },
  {
   "cell_type": "markdown",
   "metadata": {},
   "source": [
    "It is important to highlight that the _Stowage Factor_ should be calculated with the volume and the **Gross Weight** (GW(KGS))."
   ]
  },
  {
   "cell_type": "code",
   "execution_count": 13,
   "metadata": {},
   "outputs": [
    {
     "data": {
      "text/html": [
       "<div>\n",
       "<style scoped>\n",
       "    .dataframe tbody tr th:only-of-type {\n",
       "        vertical-align: middle;\n",
       "    }\n",
       "\n",
       "    .dataframe tbody tr th {\n",
       "        vertical-align: top;\n",
       "    }\n",
       "\n",
       "    .dataframe thead th {\n",
       "        text-align: right;\n",
       "    }\n",
       "</style>\n",
       "<table border=\"1\" class=\"dataframe\">\n",
       "  <thead>\n",
       "    <tr style=\"text-align: right;\">\n",
       "      <th></th>\n",
       "      <th>INNER</th>\n",
       "      <th>Qty/Ctn</th>\n",
       "      <th>CBM</th>\n",
       "      <th>Carton long (cm)</th>\n",
       "      <th>Carton width</th>\n",
       "      <th>Carton height</th>\n",
       "      <th>Product long</th>\n",
       "      <th>Product width</th>\n",
       "      <th>Product height</th>\n",
       "      <th>Packaging long</th>\n",
       "      <th>Packaging width</th>\n",
       "      <th>Packaging height</th>\n",
       "      <th>GW(KGS)</th>\n",
       "      <th>NW(KGS)</th>\n",
       "      <th>Package_weight</th>\n",
       "      <th>Stowage_Factor</th>\n",
       "    </tr>\n",
       "  </thead>\n",
       "  <tbody>\n",
       "    <tr>\n",
       "      <td>count</td>\n",
       "      <td>9745.000000</td>\n",
       "      <td>10000.000000</td>\n",
       "      <td>10000.000000</td>\n",
       "      <td>10000.000000</td>\n",
       "      <td>10000.000000</td>\n",
       "      <td>10000.000000</td>\n",
       "      <td>9031.000000</td>\n",
       "      <td>9031.000000</td>\n",
       "      <td>8905.000000</td>\n",
       "      <td>9863.000000</td>\n",
       "      <td>9863.000000</td>\n",
       "      <td>9889.000000</td>\n",
       "      <td>9981.000000</td>\n",
       "      <td>9995.000000</td>\n",
       "      <td>9996.000000</td>\n",
       "      <td>10000.000000</td>\n",
       "    </tr>\n",
       "    <tr>\n",
       "      <td>mean</td>\n",
       "      <td>1.379374</td>\n",
       "      <td>124.938200</td>\n",
       "      <td>0.237879</td>\n",
       "      <td>74.911910</td>\n",
       "      <td>42.653980</td>\n",
       "      <td>71.577540</td>\n",
       "      <td>7.960665</td>\n",
       "      <td>3.833382</td>\n",
       "      <td>4.932617</td>\n",
       "      <td>20.210590</td>\n",
       "      <td>7.573989</td>\n",
       "      <td>15.963585</td>\n",
       "      <td>20.255057</td>\n",
       "      <td>18.079128</td>\n",
       "      <td>2.152923</td>\n",
       "      <td>10.721074</td>\n",
       "    </tr>\n",
       "    <tr>\n",
       "      <td>std</td>\n",
       "      <td>1.017320</td>\n",
       "      <td>206.777673</td>\n",
       "      <td>0.118930</td>\n",
       "      <td>15.718164</td>\n",
       "      <td>10.528546</td>\n",
       "      <td>19.592152</td>\n",
       "      <td>15.367712</td>\n",
       "      <td>9.347537</td>\n",
       "      <td>10.751357</td>\n",
       "      <td>17.246599</td>\n",
       "      <td>7.569396</td>\n",
       "      <td>13.814170</td>\n",
       "      <td>8.726108</td>\n",
       "      <td>8.193619</td>\n",
       "      <td>1.296244</td>\n",
       "      <td>5.591866</td>\n",
       "    </tr>\n",
       "    <tr>\n",
       "      <td>min</td>\n",
       "      <td>0.000000</td>\n",
       "      <td>0.000000</td>\n",
       "      <td>0.000000</td>\n",
       "      <td>0.000000</td>\n",
       "      <td>0.000000</td>\n",
       "      <td>0.000000</td>\n",
       "      <td>0.000000</td>\n",
       "      <td>0.000000</td>\n",
       "      <td>0.000000</td>\n",
       "      <td>0.000000</td>\n",
       "      <td>0.000000</td>\n",
       "      <td>0.000000</td>\n",
       "      <td>0.000000</td>\n",
       "      <td>0.000000</td>\n",
       "      <td>-49.500000</td>\n",
       "      <td>0.000000</td>\n",
       "    </tr>\n",
       "    <tr>\n",
       "      <td>25%</td>\n",
       "      <td>0.000000</td>\n",
       "      <td>24.000000</td>\n",
       "      <td>0.169000</td>\n",
       "      <td>64.500000</td>\n",
       "      <td>35.000000</td>\n",
       "      <td>60.000000</td>\n",
       "      <td>0.000000</td>\n",
       "      <td>0.000000</td>\n",
       "      <td>0.000000</td>\n",
       "      <td>0.000000</td>\n",
       "      <td>0.000000</td>\n",
       "      <td>0.000000</td>\n",
       "      <td>16.000000</td>\n",
       "      <td>14.000000</td>\n",
       "      <td>2.000000</td>\n",
       "      <td>7.271212</td>\n",
       "    </tr>\n",
       "    <tr>\n",
       "      <td>50%</td>\n",
       "      <td>2.000000</td>\n",
       "      <td>60.000000</td>\n",
       "      <td>0.245000</td>\n",
       "      <td>77.000000</td>\n",
       "      <td>41.000000</td>\n",
       "      <td>74.000000</td>\n",
       "      <td>0.000000</td>\n",
       "      <td>0.000000</td>\n",
       "      <td>0.000000</td>\n",
       "      <td>19.500000</td>\n",
       "      <td>6.000000</td>\n",
       "      <td>16.000000</td>\n",
       "      <td>21.000000</td>\n",
       "      <td>18.700000</td>\n",
       "      <td>2.000000</td>\n",
       "      <td>11.045455</td>\n",
       "    </tr>\n",
       "    <tr>\n",
       "      <td>75%</td>\n",
       "      <td>2.000000</td>\n",
       "      <td>144.000000</td>\n",
       "      <td>0.310000</td>\n",
       "      <td>86.000000</td>\n",
       "      <td>48.000000</td>\n",
       "      <td>85.000000</td>\n",
       "      <td>12.000000</td>\n",
       "      <td>5.300000</td>\n",
       "      <td>6.500000</td>\n",
       "      <td>31.000000</td>\n",
       "      <td>11.000000</td>\n",
       "      <td>26.000000</td>\n",
       "      <td>25.000000</td>\n",
       "      <td>23.000000</td>\n",
       "      <td>3.000000</td>\n",
       "      <td>14.529412</td>\n",
       "    </tr>\n",
       "    <tr>\n",
       "      <td>max</td>\n",
       "      <td>12.000000</td>\n",
       "      <td>5000.000000</td>\n",
       "      <td>3.797000</td>\n",
       "      <td>202.000000</td>\n",
       "      <td>188.000000</td>\n",
       "      <td>183.000000</td>\n",
       "      <td>152.000000</td>\n",
       "      <td>407.000000</td>\n",
       "      <td>138.000000</td>\n",
       "      <td>94.000000</td>\n",
       "      <td>47.200000</td>\n",
       "      <td>95.500000</td>\n",
       "      <td>63.000000</td>\n",
       "      <td>60.000000</td>\n",
       "      <td>14.000000</td>\n",
       "      <td>51.538462</td>\n",
       "    </tr>\n",
       "  </tbody>\n",
       "</table>\n",
       "</div>"
      ],
      "text/plain": [
       "             INNER       Qty/Ctn           CBM  Carton long (cm)  \\\n",
       "count  9745.000000  10000.000000  10000.000000      10000.000000   \n",
       "mean      1.379374    124.938200      0.237879         74.911910   \n",
       "std       1.017320    206.777673      0.118930         15.718164   \n",
       "min       0.000000      0.000000      0.000000          0.000000   \n",
       "25%       0.000000     24.000000      0.169000         64.500000   \n",
       "50%       2.000000     60.000000      0.245000         77.000000   \n",
       "75%       2.000000    144.000000      0.310000         86.000000   \n",
       "max      12.000000   5000.000000      3.797000        202.000000   \n",
       "\n",
       "       Carton width  Carton height  Product long  Product width  \\\n",
       "count  10000.000000   10000.000000   9031.000000    9031.000000   \n",
       "mean      42.653980      71.577540      7.960665       3.833382   \n",
       "std       10.528546      19.592152     15.367712       9.347537   \n",
       "min        0.000000       0.000000      0.000000       0.000000   \n",
       "25%       35.000000      60.000000      0.000000       0.000000   \n",
       "50%       41.000000      74.000000      0.000000       0.000000   \n",
       "75%       48.000000      85.000000     12.000000       5.300000   \n",
       "max      188.000000     183.000000    152.000000     407.000000   \n",
       "\n",
       "       Product height  Packaging long  Packaging width  Packaging height  \\\n",
       "count     8905.000000     9863.000000      9863.000000       9889.000000   \n",
       "mean         4.932617       20.210590         7.573989         15.963585   \n",
       "std         10.751357       17.246599         7.569396         13.814170   \n",
       "min          0.000000        0.000000         0.000000          0.000000   \n",
       "25%          0.000000        0.000000         0.000000          0.000000   \n",
       "50%          0.000000       19.500000         6.000000         16.000000   \n",
       "75%          6.500000       31.000000        11.000000         26.000000   \n",
       "max        138.000000       94.000000        47.200000         95.500000   \n",
       "\n",
       "           GW(KGS)      NW(KGS)  Package_weight  Stowage_Factor  \n",
       "count  9981.000000  9995.000000     9996.000000    10000.000000  \n",
       "mean     20.255057    18.079128        2.152923       10.721074  \n",
       "std       8.726108     8.193619        1.296244        5.591866  \n",
       "min       0.000000     0.000000      -49.500000        0.000000  \n",
       "25%      16.000000    14.000000        2.000000        7.271212  \n",
       "50%      21.000000    18.700000        2.000000       11.045455  \n",
       "75%      25.000000    23.000000        3.000000       14.529412  \n",
       "max      63.000000    60.000000       14.000000       51.538462  "
      ]
     },
     "execution_count": 13,
     "metadata": {},
     "output_type": "execute_result"
    }
   ],
   "source": [
    "toy_df.describe()"
   ]
  },
  {
   "cell_type": "markdown",
   "metadata": {},
   "source": [
    "#### Stowage Factor Distribution "
   ]
  },
  {
   "cell_type": "code",
   "execution_count": 14,
   "metadata": {},
   "outputs": [
    {
     "data": {
      "text/plain": [
       "Text(0.5, 0, 'Net Weight')"
      ]
     },
     "execution_count": 14,
     "metadata": {},
     "output_type": "execute_result"
    },
    {
     "data": {
      "image/png": "[encoded data removed]",
      "text/plain": [
       "<Figure size 432x288 with 1 Axes>"
      ]
     },
     "metadata": {
      "needs_background": "light"
     },
     "output_type": "display_data"
    }
   ],
   "source": [
    "plt.scatter(toy_df['NW(KGS)'], toy_df['Stowage_Factor'], s=4, c='tab:orange', marker=',', norm= True, alpha=0.3)\n",
    "plt.title('SF and Net Weight Distribution')\n",
    "plt.ylabel('Stowage Factor')\n",
    "plt.xlabel('Net Weight')"
   ]
  },
  {
   "cell_type": "markdown",
   "metadata": {},
   "source": [
    "The distribution of the plot show us products that tend to be heavy with a small size in one hand, and others that tend to be light in weight, but rather voluminous. We could create subgroups to classify products for the consolidation of containers and cargoes arrange and freight rates."
   ]
  },
  {
   "cell_type": "markdown",
   "metadata": {},
   "source": [
    "## Clustering and Classification"
   ]
  },
  {
   "cell_type": "markdown",
   "metadata": {},
   "source": [
    "As we want to classify the products according to their size and weight attributes, the _Stowage Factor_ and the _Net Weight_ are the variables chosen for the clustering. One describes the full product with the package, and the other only the product without the package."
   ]
  },
  {
   "cell_type": "code",
   "execution_count": 15,
   "metadata": {},
   "outputs": [
    {
     "data": {
      "text/plain": [
       "Index(['Item No#', 'Description', 'Package', 'INNER', 'Qty/Ctn', 'CBM',\n",
       "       'Carton long (cm)', 'Carton width', 'Carton height', 'Product long',\n",
       "       'Product width', 'Product height', 'Packaging long', 'Packaging width',\n",
       "       'Packaging height', 'GW(KGS)', 'NW(KGS)', 'Package_weight',\n",
       "       'Stowage_Factor'],\n",
       "      dtype='object')"
      ]
     },
     "execution_count": 15,
     "metadata": {},
     "output_type": "execute_result"
    }
   ],
   "source": [
    "toy_df.columns"
   ]
  },
  {
   "cell_type": "code",
   "execution_count": 16,
   "metadata": {},
   "outputs": [],
   "source": [
    "X = toy_df.iloc[:,[16,18]]"
   ]
  },
  {
   "cell_type": "code",
   "execution_count": 17,
   "metadata": {},
   "outputs": [
    {
     "data": {
      "text/plain": [
       "(10000, 2)"
      ]
     },
     "execution_count": 17,
     "metadata": {},
     "output_type": "execute_result"
    }
   ],
   "source": [
    "X.shape"
   ]
  },
  {
   "cell_type": "markdown",
   "metadata": {},
   "source": [
    "**Cleaning the data**"
   ]
  },
  {
   "cell_type": "code",
   "execution_count": 18,
   "metadata": {},
   "outputs": [
    {
     "data": {
      "text/plain": [
       "NW(KGS)           5\n",
       "Stowage_Factor    0\n",
       "dtype: int64"
      ]
     },
     "execution_count": 18,
     "metadata": {},
     "output_type": "execute_result"
    }
   ],
   "source": [
    "X.isnull().sum(axis = 0)"
   ]
  },
  {
   "cell_type": "code",
   "execution_count": 19,
   "metadata": {},
   "outputs": [
    {
     "name": "stderr",
     "output_type": "stream",
     "text": [
      "/opt/anaconda3/lib/python3.7/site-packages/pandas/core/frame.py:4102: SettingWithCopyWarning: \n",
      "A value is trying to be set on a copy of a slice from a DataFrame\n",
      "\n",
      "See the caveats in the documentation: http://pandas.pydata.org/pandas-docs/stable/user_guide/indexing.html#returning-a-view-versus-a-copy\n",
      "  errors=errors,\n"
     ]
    }
   ],
   "source": [
    "indexWeight = X[ X['NW(KGS)'] <= 0 ].index\n",
    "# Delete rows with negative values\n",
    "X.drop(indexWeight , inplace=True)"
   ]
  },
  {
   "cell_type": "code",
   "execution_count": 20,
   "metadata": {},
   "outputs": [],
   "source": [
    "indexSF = X[ X['Stowage_Factor'] <= 0 ].index\n",
    "# Delete negative values\n",
    "X.drop(indexSF , inplace=True)"
   ]
  },
  {
   "cell_type": "code",
   "execution_count": 21,
   "metadata": {},
   "outputs": [
    {
     "data": {
      "text/plain": [
       "(9304, 2)"
      ]
     },
     "execution_count": 21,
     "metadata": {},
     "output_type": "execute_result"
    }
   ],
   "source": [
    "X.shape"
   ]
  },
  {
   "cell_type": "code",
   "execution_count": 22,
   "metadata": {},
   "outputs": [],
   "source": [
    "X = X.dropna()"
   ]
  },
  {
   "cell_type": "code",
   "execution_count": 23,
   "metadata": {},
   "outputs": [
    {
     "data": {
      "text/html": [
       "<div>\n",
       "<style scoped>\n",
       "    .dataframe tbody tr th:only-of-type {\n",
       "        vertical-align: middle;\n",
       "    }\n",
       "\n",
       "    .dataframe tbody tr th {\n",
       "        vertical-align: top;\n",
       "    }\n",
       "\n",
       "    .dataframe thead th {\n",
       "        text-align: right;\n",
       "    }\n",
       "</style>\n",
       "<table border=\"1\" class=\"dataframe\">\n",
       "  <thead>\n",
       "    <tr style=\"text-align: right;\">\n",
       "      <th></th>\n",
       "      <th>NW(KGS)</th>\n",
       "      <th>Stowage_Factor</th>\n",
       "    </tr>\n",
       "  </thead>\n",
       "  <tbody>\n",
       "    <tr>\n",
       "      <td>count</td>\n",
       "      <td>9304.000000</td>\n",
       "      <td>9304.000000</td>\n",
       "    </tr>\n",
       "    <tr>\n",
       "      <td>mean</td>\n",
       "      <td>19.395591</td>\n",
       "      <td>11.523080</td>\n",
       "    </tr>\n",
       "    <tr>\n",
       "      <td>std</td>\n",
       "      <td>6.819248</td>\n",
       "      <td>4.936169</td>\n",
       "    </tr>\n",
       "    <tr>\n",
       "      <td>min</td>\n",
       "      <td>1.300000</td>\n",
       "      <td>0.125000</td>\n",
       "    </tr>\n",
       "    <tr>\n",
       "      <td>25%</td>\n",
       "      <td>15.000000</td>\n",
       "      <td>8.239524</td>\n",
       "    </tr>\n",
       "    <tr>\n",
       "      <td>50%</td>\n",
       "      <td>19.000000</td>\n",
       "      <td>11.538462</td>\n",
       "    </tr>\n",
       "    <tr>\n",
       "      <td>75%</td>\n",
       "      <td>23.000000</td>\n",
       "      <td>14.778986</td>\n",
       "    </tr>\n",
       "    <tr>\n",
       "      <td>max</td>\n",
       "      <td>60.000000</td>\n",
       "      <td>51.538462</td>\n",
       "    </tr>\n",
       "  </tbody>\n",
       "</table>\n",
       "</div>"
      ],
      "text/plain": [
       "           NW(KGS)  Stowage_Factor\n",
       "count  9304.000000     9304.000000\n",
       "mean     19.395591       11.523080\n",
       "std       6.819248        4.936169\n",
       "min       1.300000        0.125000\n",
       "25%      15.000000        8.239524\n",
       "50%      19.000000       11.538462\n",
       "75%      23.000000       14.778986\n",
       "max      60.000000       51.538462"
      ]
     },
     "execution_count": 23,
     "metadata": {},
     "output_type": "execute_result"
    }
   ],
   "source": [
    "X.describe()"
   ]
  },
  {
   "cell_type": "markdown",
   "metadata": {},
   "source": [
    "#### Importing Tools"
   ]
  },
  {
   "cell_type": "code",
   "execution_count": 25,
   "metadata": {},
   "outputs": [],
   "source": [
    "import scipy.cluster.hierarchy as sch\n",
    "from scipy.spatial.distance import pdist\n",
    "from scipy.cluster.hierarchy import fcluster\n",
    "from scipy.cluster.hierarchy import dendrogram, linkage\n",
    "from sklearn.cluster import AgglomerativeClustering"
   ]
  },
  {
   "cell_type": "markdown",
   "metadata": {},
   "source": [
    "_And setup visualization options_"
   ]
  },
  {
   "cell_type": "code",
   "execution_count": 26,
   "metadata": {},
   "outputs": [
    {
     "data": {
      "text/plain": [
       "<Figure size 1440x432 with 0 Axes>"
      ]
     },
     "metadata": {},
     "output_type": "display_data"
    }
   ],
   "source": [
    "np.set_printoptions(precision = 4, suppress = True)\n",
    "plt.figure(figsize=(20,6))\n",
    "\n",
    "plt.style.use('seaborn-whitegrid')"
   ]
  },
  {
   "cell_type": "markdown",
   "metadata": {},
   "source": [
    "### Creating a Dendrogram"
   ]
  },
  {
   "cell_type": "markdown",
   "metadata": {},
   "source": [
    "A _dendrogram_ allows us to set an appropriate __number of clusters__"
   ]
  },
  {
   "cell_type": "code",
   "execution_count": 27,
   "metadata": {},
   "outputs": [
    {
     "data": {
      "image/png": "[encoded data removed]",
      "text/plain": [
       "<Figure size 432x288 with 1 Axes>"
      ]
     },
     "metadata": {},
     "output_type": "display_data"
    }
   ],
   "source": [
    "dendrogram = sch.dendrogram(sch.linkage(X, method ='ward'), truncate_mode= 'lastp', p=15, leaf_rotation=45, leaf_font_size = 15, show_contracted= True)\n",
    "plt.title('Truncated Hierarchical Clustering Dendrogram')\n",
    "plt.xlabel('Cluster Size')\n",
    "plt.ylabel('Distance')\n",
    "\n",
    "plt.axhline(y=500) # The max. distance choice between clusters\n",
    "plt.axhline(y=200) # The min. distance choice between clusters\n",
    "\n",
    "plt.show()"
   ]
  },
  {
   "cell_type": "markdown",
   "metadata": {},
   "source": [
    "From the minimal distance between the cluster line that we have defined, the number of clusters that we could create is **6**."
   ]
  },
  {
   "cell_type": "code",
   "execution_count": 28,
   "metadata": {},
   "outputs": [],
   "source": [
    "Hc = AgglomerativeClustering(n_clusters=6, affinity = 'euclidean', linkage ='ward')"
   ]
  },
  {
   "cell_type": "code",
   "execution_count": 31,
   "metadata": {},
   "outputs": [],
   "source": [
    "y_hc = Hc.fit_predict(X)"
   ]
  },
  {
   "cell_type": "code",
   "execution_count": 32,
   "metadata": {},
   "outputs": [],
   "source": [
    "Xarray = np.array(X)"
   ]
  },
  {
   "cell_type": "markdown",
   "metadata": {},
   "source": [
    "### Clusters Visualization"
   ]
  },
  {
   "cell_type": "code",
   "execution_count": 33,
   "metadata": {},
   "outputs": [
    {
     "data": {
      "text/plain": [
       "Text(0.5, 1.0, 'Clusters of products')"
      ]
     },
     "execution_count": 33,
     "metadata": {},
     "output_type": "execute_result"
    },
    {
     "data": {
      "image/png": "[encoded data removed]",
      "text/plain": [
       "<Figure size 432x288 with 1 Axes>"
      ]
     },
     "metadata": {},
     "output_type": "display_data"
    }
   ],
   "source": [
    "plt.scatter(Xarray[y_hc == 0,0], Xarray[y_hc == 0,1], s = 5, marker= ',', c = 'tab:red', label = 'Heaviest Products')\n",
    "plt.scatter(Xarray[y_hc == 1,0], Xarray[y_hc == 1,1], s = 5, marker= '.', c = 'tab:purple', label = 'Heavy and Large Products')\n",
    "plt.scatter(Xarray[y_hc == 2,0], Xarray[y_hc == 2,1], s = 5, marker= 'x', c = 'tab:cyan', label = 'Light and Voluminous Products')\n",
    "plt.scatter(Xarray[y_hc == 3,0], Xarray[y_hc == 3,1], s = 5, marker= 'o', c = 'tab:olive', label = 'Light and Small Products')\n",
    "plt.scatter(Xarray[y_hc == 4,0], Xarray[y_hc == 4,1], s = 5, marker= '2', c = 'tab:blue', label = 'Heavy and Rather Small')\n",
    "plt.scatter(Xarray[y_hc == 5,0], Xarray[y_hc == 5,1], s = 5, marker= '3', c = 'tab:green', label = 'Rather Big and Medium Weight')\n",
    "plt.xlabel ('Weight Distribution')\n",
    "plt.ylabel ('Volume Distribution')\n",
    "plt.legend()\n",
    "\n",
    "plt.title('Clusters of products')"
   ]
  },
  {
   "cell_type": "markdown",
   "metadata": {},
   "source": [
    "### Conclusion "
   ]
  },
  {
   "cell_type": "markdown",
   "metadata": {},
   "source": [
    "From the plot and the data analysis, we have classified the products into six categories:\n",
    "\n",
    "- The Heaviest Products\n",
    "- Products that are both Heavy and Large.\n",
    "- Products that are heavy, but rather Small in size.\n",
    "- Lightweight and Small products.\n",
    "- Rather Voluminous, but Lightweight products.\n",
    "- Lightweight but Voluminous Products."
   ]
  },
  {
   "cell_type": "code",
   "execution_count": null,
   "metadata": {},
   "outputs": [],
   "source": []
  }
 ],
 "metadata": {
  "kernelspec": {
   "display_name": "Python 3",
   "language": "python",
   "name": "python3"
  },
  "language_info": {
   "codemirror_mode": {
    "name": "ipython",
    "version": 3
   },
   "file_extension": ".py",
   "mimetype": "text/x-python",
   "name": "python",
   "nbconvert_exporter": "python",
   "pygments_lexer": "ipython3",
   "version": "3.7.4"
  }
 },
 "nbformat": 4,
 "nbformat_minor": 2
}
