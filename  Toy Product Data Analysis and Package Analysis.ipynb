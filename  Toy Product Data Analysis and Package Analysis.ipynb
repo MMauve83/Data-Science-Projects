{
 "cells": [
  {
   "cell_type": "markdown",
   "metadata": {},
   "source": [
    "# Toy Analysis and Classification"
   ]
  },
  {
   "cell_type": "markdown",
   "metadata": {},
   "source": [
    "### Project Description"
   ]
  },
  {
   "cell_type": "markdown",
   "metadata": {},
   "source": [
    "This project is the analysis of a product requested by a client based in China. The company operations are exportation of different kinds of toys from several suppliers in China to multinational supermarket chains established in LATAM."
   ]
  },
  {
   "cell_type": "markdown",
   "metadata": {},
   "source": [
    "## Data"
   ]
  },
  {
   "cell_type": "markdown",
   "metadata": {},
   "source": [
    "The client informed us that the data available they have is the stock inventory warehouse data from the client, located in China. This warehouse is the one that ships the product to LATAM. The data set is a compound of 10000 items with attributes such as size, weight, volume, and package."
   ]
  },
  {
   "cell_type": "markdown",
   "metadata": {},
   "source": [
    "### Analysing the Data"
   ]
  },
  {
   "cell_type": "code",
   "execution_count": 2,
   "metadata": {},
   "outputs": [],
   "source": [
    "import pandas as pd\n",
    "import numpy as np\n",
    "import os"
   ]
  },
  {
   "cell_type": "code",
   "execution_count": 3,
   "metadata": {},
   "outputs": [
    {
     "name": "stdout",
     "output_type": "stream",
     "text": [
      "/Users/mariomauvecin/Desktop\n"
     ]
    }
   ],
   "source": [
    "# As each project is saved in an unique folder, we need to set the working directory properly.\n",
    "path = os.getcwd()\n",
    "print(path)"
   ]
  },
  {
   "cell_type": "code",
   "execution_count": 4,
   "metadata": {},
   "outputs": [],
   "source": [
    "os.chdir('/Users/mariomauvecin/Desktop/DATA SCIENCE/DATA SCIENCE PROJECTS/TOY EXPORTATION') #Changing the Directory"
   ]
  },
  {
   "cell_type": "code",
   "execution_count": 5,
   "metadata": {},
   "outputs": [
    {
     "data": {
      "text/plain": [
       "'/Users/mariomauvecin/Desktop/DATA SCIENCE/DATA SCIENCE PROJECTS/TOY EXPORTATION'"
      ]
     },
     "execution_count": 5,
     "metadata": {},
     "output_type": "execute_result"
    }
   ],
   "source": [
    "os.getcwd()"
   ]
  },
  {
   "cell_type": "code",
   "execution_count": 6,
   "metadata": {},
   "outputs": [],
   "source": [
    "#Creating a dataframe\n",
    "toy_df = pd.read_csv('Suppliers_Catalog.csv', sep=';', header= 0, decimal = '.') "
   ]
  },
  {
   "cell_type": "code",
   "execution_count": 7,
   "metadata": {},
   "outputs": [
    {
     "data": {
      "text/plain": [
       "(10000, 17)"
      ]
     },
     "execution_count": 7,
     "metadata": {},
     "output_type": "execute_result"
    }
   ],
   "source": [
    "toy_df.shape"
   ]
  },
  {
   "cell_type": "code",
   "execution_count": 8,
   "metadata": {},
   "outputs": [
    {
     "data": {
      "text/plain": [
       "Index(['Item No#', 'Description', 'Package', 'INNER', 'Qty/Ctn', 'CBM',\n",
       "       'Carton long (cm)', 'Carton width', 'Carton height', 'Product long',\n",
       "       'Product width', 'Product height', 'Packaging long', 'Packaging width',\n",
       "       'Packaging height', 'GW(KGS)', 'NW(KGS)'],\n",
       "      dtype='object')"
      ]
     },
     "execution_count": 8,
     "metadata": {},
     "output_type": "execute_result"
    }
   ],
   "source": [
    "toy_df.columns"
   ]
  },
  {
   "cell_type": "code",
   "execution_count": 9,
   "metadata": {},
   "outputs": [
    {
     "data": {
      "text/plain": [
       "Item No#             object\n",
       "Description          object\n",
       "Package              object\n",
       "INNER               float64\n",
       "Qty/Ctn               int64\n",
       "CBM                  object\n",
       "Carton long (cm)    float64\n",
       "Carton width        float64\n",
       "Carton height       float64\n",
       "Product long         object\n",
       "Product width        object\n",
       "Product height      float64\n",
       "Packaging long      float64\n",
       "Packaging width     float64\n",
       "Packaging height     object\n",
       "GW(KGS)             float64\n",
       "NW(KGS)             float64\n",
       "dtype: object"
      ]
     },
     "execution_count": 9,
     "metadata": {},
     "output_type": "execute_result"
    }
   ],
   "source": [
    "toy_df.dtypes"
   ]
  },
  {
   "cell_type": "markdown",
   "metadata": {},
   "source": [
    "### Dataframe columns and values."
   ]
  },
  {
   "cell_type": "markdown",
   "metadata": {},
   "source": [
    "The dataframe has 17 columns. The columns attributes are:\n",
    "\n",
    "* The Item number\n",
    "* A Description of the product\n",
    "* The Package type\n",
    "* The 'Inner' Values\n",
    "* The Qty (Quantity)\n",
    "* The Volume in Cubic Meters\n",
    "* The Carton dimensions in cm.\n",
    "    * Carton lenght\n",
    "    * Carton width\n",
    "    * Carton height\n",
    "* The Product dimensions in cm.\n",
    "    * Product lenght\n",
    "    * Product width\n",
    "    * Product height\n",
    "* The Packaging dimensions in cm.\n",
    "    * Packaging lenght\n",
    "    * Packaging width\n",
    "    * Packaging height\n",
    "* The Gross weight in KG.\n",
    "* The Net weight in KG."
   ]
  },
  {
   "cell_type": "markdown",
   "metadata": {},
   "source": [
    "In the data frame, some data values are not correct. We should re-classify the columns values types of some columns (CBM, Product long and width, Packaging height) because the values are classified as objects, and should be classified as numerical variables."
   ]
  },
  {
   "cell_type": "code",
   "execution_count": 10,
   "metadata": {},
   "outputs": [],
   "source": [
    "toy_df['CBM'] = toy_df['CBM'].str.replace(',', '.').astype(float)\n",
    "toy_df['Product long'] = toy_df['Product long'].str.replace(',', '.').astype(float)\n",
    "toy_df['Product width'] = toy_df['Product width'].str.replace(',', '.').astype(float)\n",
    "toy_df['Packaging height'] = toy_df['Packaging height'].str.replace(',', '.').astype(float)"
   ]
  },
  {
   "cell_type": "code",
   "execution_count": 11,
   "metadata": {},
   "outputs": [
    {
     "data": {
      "text/html": [
       "<div>\n",
       "<style scoped>\n",
       "    .dataframe tbody tr th:only-of-type {\n",
       "        vertical-align: middle;\n",
       "    }\n",
       "\n",
       "    .dataframe tbody tr th {\n",
       "        vertical-align: top;\n",
       "    }\n",
       "\n",
       "    .dataframe thead th {\n",
       "        text-align: right;\n",
       "    }\n",
       "</style>\n",
       "<table border=\"1\" class=\"dataframe\">\n",
       "  <thead>\n",
       "    <tr style=\"text-align: right;\">\n",
       "      <th></th>\n",
       "      <th>Item No#</th>\n",
       "      <th>Description</th>\n",
       "      <th>Package</th>\n",
       "      <th>INNER</th>\n",
       "      <th>Qty/Ctn</th>\n",
       "      <th>CBM</th>\n",
       "      <th>Carton long (cm)</th>\n",
       "      <th>Carton width</th>\n",
       "      <th>Carton height</th>\n",
       "      <th>Product long</th>\n",
       "      <th>Product width</th>\n",
       "      <th>Product height</th>\n",
       "      <th>Packaging long</th>\n",
       "      <th>Packaging width</th>\n",
       "      <th>Packaging height</th>\n",
       "      <th>GW(KGS)</th>\n",
       "      <th>NW(KGS)</th>\n",
       "    </tr>\n",
       "  </thead>\n",
       "  <tbody>\n",
       "    <tr>\n",
       "      <td>0</td>\n",
       "      <td>AN933806</td>\n",
       "      <td>ANIMAL SET  4PCS</td>\n",
       "      <td>WINDOW BOX</td>\n",
       "      <td>0.0</td>\n",
       "      <td>72</td>\n",
       "      <td>0.242</td>\n",
       "      <td>72.5</td>\n",
       "      <td>35.5</td>\n",
       "      <td>94.0</td>\n",
       "      <td>0.0</td>\n",
       "      <td>0.0</td>\n",
       "      <td>0.0</td>\n",
       "      <td>26.7</td>\n",
       "      <td>7.5</td>\n",
       "      <td>22.5</td>\n",
       "      <td>18.0</td>\n",
       "      <td>14.5</td>\n",
       "    </tr>\n",
       "    <tr>\n",
       "      <td>1</td>\n",
       "      <td>AN954488</td>\n",
       "      <td>ANIMAL SET  4PCS</td>\n",
       "      <td>PVC BAG WITH HEADER</td>\n",
       "      <td>2.0</td>\n",
       "      <td>36</td>\n",
       "      <td>0.200</td>\n",
       "      <td>64.5</td>\n",
       "      <td>52.5</td>\n",
       "      <td>59.0</td>\n",
       "      <td>0.0</td>\n",
       "      <td>0.0</td>\n",
       "      <td>0.0</td>\n",
       "      <td>35.0</td>\n",
       "      <td>43.0</td>\n",
       "      <td>0.0</td>\n",
       "      <td>19.0</td>\n",
       "      <td>17.0</td>\n",
       "    </tr>\n",
       "    <tr>\n",
       "      <td>2</td>\n",
       "      <td>AN954489</td>\n",
       "      <td>ANIMAL SET  6PCS</td>\n",
       "      <td>PVC BAG WITH HEADER</td>\n",
       "      <td>2.0</td>\n",
       "      <td>36</td>\n",
       "      <td>0.200</td>\n",
       "      <td>64.5</td>\n",
       "      <td>52.5</td>\n",
       "      <td>59.0</td>\n",
       "      <td>24.0</td>\n",
       "      <td>8.5</td>\n",
       "      <td>13.0</td>\n",
       "      <td>0.0</td>\n",
       "      <td>0.0</td>\n",
       "      <td>0.0</td>\n",
       "      <td>19.0</td>\n",
       "      <td>17.0</td>\n",
       "    </tr>\n",
       "    <tr>\n",
       "      <td>3</td>\n",
       "      <td>AN956141</td>\n",
       "      <td>DINOSAUR SET  34PCS</td>\n",
       "      <td>PVC TUBE</td>\n",
       "      <td>3.0</td>\n",
       "      <td>24</td>\n",
       "      <td>0.211</td>\n",
       "      <td>71.0</td>\n",
       "      <td>43.0</td>\n",
       "      <td>69.0</td>\n",
       "      <td>0.0</td>\n",
       "      <td>0.0</td>\n",
       "      <td>0.0</td>\n",
       "      <td>20.0</td>\n",
       "      <td>20.0</td>\n",
       "      <td>21.0</td>\n",
       "      <td>17.0</td>\n",
       "      <td>15.0</td>\n",
       "    </tr>\n",
       "    <tr>\n",
       "      <td>4</td>\n",
       "      <td>AN956142</td>\n",
       "      <td>ANIMAL SET  34PCS</td>\n",
       "      <td>PVC TUBE</td>\n",
       "      <td>3.0</td>\n",
       "      <td>24</td>\n",
       "      <td>0.211</td>\n",
       "      <td>71.0</td>\n",
       "      <td>43.0</td>\n",
       "      <td>69.0</td>\n",
       "      <td>0.0</td>\n",
       "      <td>0.0</td>\n",
       "      <td>0.0</td>\n",
       "      <td>20.0</td>\n",
       "      <td>20.0</td>\n",
       "      <td>21.0</td>\n",
       "      <td>17.0</td>\n",
       "      <td>15.0</td>\n",
       "    </tr>\n",
       "    <tr>\n",
       "      <td>...</td>\n",
       "      <td>...</td>\n",
       "      <td>...</td>\n",
       "      <td>...</td>\n",
       "      <td>...</td>\n",
       "      <td>...</td>\n",
       "      <td>...</td>\n",
       "      <td>...</td>\n",
       "      <td>...</td>\n",
       "      <td>...</td>\n",
       "      <td>...</td>\n",
       "      <td>...</td>\n",
       "      <td>...</td>\n",
       "      <td>...</td>\n",
       "      <td>...</td>\n",
       "      <td>...</td>\n",
       "      <td>...</td>\n",
       "      <td>...</td>\n",
       "    </tr>\n",
       "    <tr>\n",
       "      <td>9995</td>\n",
       "      <td>WSB964414</td>\n",
       "      <td>B/O SWORD WITH LIGHT AND SOUND</td>\n",
       "      <td>DISPLAY BOX</td>\n",
       "      <td>2.0</td>\n",
       "      <td>72</td>\n",
       "      <td>0.240</td>\n",
       "      <td>64.5</td>\n",
       "      <td>59.0</td>\n",
       "      <td>63.0</td>\n",
       "      <td>0.0</td>\n",
       "      <td>0.0</td>\n",
       "      <td>0.0</td>\n",
       "      <td>0.0</td>\n",
       "      <td>0.0</td>\n",
       "      <td>0.0</td>\n",
       "      <td>21.5</td>\n",
       "      <td>19.5</td>\n",
       "    </tr>\n",
       "    <tr>\n",
       "      <td>9996</td>\n",
       "      <td>WSB964415</td>\n",
       "      <td>B/O SWORD WITH LIGHT AND SOUND</td>\n",
       "      <td>WINDOW BOX</td>\n",
       "      <td>2.0</td>\n",
       "      <td>60</td>\n",
       "      <td>0.215</td>\n",
       "      <td>73.0</td>\n",
       "      <td>46.0</td>\n",
       "      <td>64.0</td>\n",
       "      <td>0.0</td>\n",
       "      <td>0.0</td>\n",
       "      <td>0.0</td>\n",
       "      <td>7.5</td>\n",
       "      <td>6.0</td>\n",
       "      <td>71.0</td>\n",
       "      <td>19.5</td>\n",
       "      <td>17.5</td>\n",
       "    </tr>\n",
       "    <tr>\n",
       "      <td>9997</td>\n",
       "      <td>WSB964416</td>\n",
       "      <td>B/O SWORD WITH LIGHT AND SOUND</td>\n",
       "      <td>DISPLAY BOX</td>\n",
       "      <td>3.0</td>\n",
       "      <td>72</td>\n",
       "      <td>0.239</td>\n",
       "      <td>93.0</td>\n",
       "      <td>39.0</td>\n",
       "      <td>66.0</td>\n",
       "      <td>0.0</td>\n",
       "      <td>0.0</td>\n",
       "      <td>0.0</td>\n",
       "      <td>NaN</td>\n",
       "      <td>NaN</td>\n",
       "      <td>NaN</td>\n",
       "      <td>22.0</td>\n",
       "      <td>19.0</td>\n",
       "    </tr>\n",
       "    <tr>\n",
       "      <td>9998</td>\n",
       "      <td>WSB956629</td>\n",
       "      <td>SWORD WITH LIGHT AND SOUND\\n</td>\n",
       "      <td>BIND CARD</td>\n",
       "      <td>2.0</td>\n",
       "      <td>192</td>\n",
       "      <td>0.296</td>\n",
       "      <td>65.0</td>\n",
       "      <td>48.0</td>\n",
       "      <td>95.0</td>\n",
       "      <td>15.0</td>\n",
       "      <td>3.5</td>\n",
       "      <td>46.0</td>\n",
       "      <td>39.0</td>\n",
       "      <td>12.0</td>\n",
       "      <td>3.5</td>\n",
       "      <td>26.0</td>\n",
       "      <td>24.0</td>\n",
       "    </tr>\n",
       "    <tr>\n",
       "      <td>9999</td>\n",
       "      <td>WSB956628</td>\n",
       "      <td>SWORD WITH LIGHT AND SOUND</td>\n",
       "      <td>POLY BAG</td>\n",
       "      <td>2.0</td>\n",
       "      <td>288</td>\n",
       "      <td>0.250</td>\n",
       "      <td>65.0</td>\n",
       "      <td>40.0</td>\n",
       "      <td>96.0</td>\n",
       "      <td>14.5</td>\n",
       "      <td>4.0</td>\n",
       "      <td>45.0</td>\n",
       "      <td>39.0</td>\n",
       "      <td>12.0</td>\n",
       "      <td>3.5</td>\n",
       "      <td>30.0</td>\n",
       "      <td>28.0</td>\n",
       "    </tr>\n",
       "  </tbody>\n",
       "</table>\n",
       "<p>10000 rows × 17 columns</p>\n",
       "</div>"
      ],
      "text/plain": [
       "       Item No#                     Description              Package  INNER  \\\n",
       "0      AN933806                ANIMAL SET  4PCS           WINDOW BOX    0.0   \n",
       "1      AN954488                ANIMAL SET  4PCS  PVC BAG WITH HEADER    2.0   \n",
       "2      AN954489                ANIMAL SET  6PCS  PVC BAG WITH HEADER    2.0   \n",
       "3      AN956141             DINOSAUR SET  34PCS             PVC TUBE    3.0   \n",
       "4      AN956142               ANIMAL SET  34PCS             PVC TUBE    3.0   \n",
       "...         ...                             ...                  ...    ...   \n",
       "9995  WSB964414  B/O SWORD WITH LIGHT AND SOUND          DISPLAY BOX    2.0   \n",
       "9996  WSB964415  B/O SWORD WITH LIGHT AND SOUND           WINDOW BOX    2.0   \n",
       "9997  WSB964416  B/O SWORD WITH LIGHT AND SOUND          DISPLAY BOX    3.0   \n",
       "9998  WSB956629    SWORD WITH LIGHT AND SOUND\\n            BIND CARD    2.0   \n",
       "9999  WSB956628      SWORD WITH LIGHT AND SOUND             POLY BAG    2.0   \n",
       "\n",
       "      Qty/Ctn    CBM  Carton long (cm)  Carton width  Carton height  \\\n",
       "0          72  0.242              72.5          35.5           94.0   \n",
       "1          36  0.200              64.5          52.5           59.0   \n",
       "2          36  0.200              64.5          52.5           59.0   \n",
       "3          24  0.211              71.0          43.0           69.0   \n",
       "4          24  0.211              71.0          43.0           69.0   \n",
       "...       ...    ...               ...           ...            ...   \n",
       "9995       72  0.240              64.5          59.0           63.0   \n",
       "9996       60  0.215              73.0          46.0           64.0   \n",
       "9997       72  0.239              93.0          39.0           66.0   \n",
       "9998      192  0.296              65.0          48.0           95.0   \n",
       "9999      288  0.250              65.0          40.0           96.0   \n",
       "\n",
       "      Product long  Product width  Product height  Packaging long  \\\n",
       "0              0.0            0.0             0.0            26.7   \n",
       "1              0.0            0.0             0.0            35.0   \n",
       "2             24.0            8.5            13.0             0.0   \n",
       "3              0.0            0.0             0.0            20.0   \n",
       "4              0.0            0.0             0.0            20.0   \n",
       "...            ...            ...             ...             ...   \n",
       "9995           0.0            0.0             0.0             0.0   \n",
       "9996           0.0            0.0             0.0             7.5   \n",
       "9997           0.0            0.0             0.0             NaN   \n",
       "9998          15.0            3.5            46.0            39.0   \n",
       "9999          14.5            4.0            45.0            39.0   \n",
       "\n",
       "      Packaging width  Packaging height  GW(KGS)  NW(KGS)  \n",
       "0                 7.5              22.5     18.0     14.5  \n",
       "1                43.0               0.0     19.0     17.0  \n",
       "2                 0.0               0.0     19.0     17.0  \n",
       "3                20.0              21.0     17.0     15.0  \n",
       "4                20.0              21.0     17.0     15.0  \n",
       "...               ...               ...      ...      ...  \n",
       "9995              0.0               0.0     21.5     19.5  \n",
       "9996              6.0              71.0     19.5     17.5  \n",
       "9997              NaN               NaN     22.0     19.0  \n",
       "9998             12.0               3.5     26.0     24.0  \n",
       "9999             12.0               3.5     30.0     28.0  \n",
       "\n",
       "[10000 rows x 17 columns]"
      ]
     },
     "execution_count": 11,
     "metadata": {},
     "output_type": "execute_result"
    }
   ],
   "source": [
    "toy_df"
   ]
  },
  {
   "cell_type": "markdown",
   "metadata": {},
   "source": [
    "From data exploratory analysis we find that there are 10 K rows and 17 columns. Must of the columns are numerical values, but the three first columns are strings attributes."
   ]
  },
  {
   "cell_type": "code",
   "execution_count": 12,
   "metadata": {},
   "outputs": [
    {
     "data": {
      "text/html": [
       "<div>\n",
       "<style scoped>\n",
       "    .dataframe tbody tr th:only-of-type {\n",
       "        vertical-align: middle;\n",
       "    }\n",
       "\n",
       "    .dataframe tbody tr th {\n",
       "        vertical-align: top;\n",
       "    }\n",
       "\n",
       "    .dataframe thead th {\n",
       "        text-align: right;\n",
       "    }\n",
       "</style>\n",
       "<table border=\"1\" class=\"dataframe\">\n",
       "  <thead>\n",
       "    <tr style=\"text-align: right;\">\n",
       "      <th></th>\n",
       "      <th>INNER</th>\n",
       "      <th>Qty/Ctn</th>\n",
       "      <th>CBM</th>\n",
       "      <th>Carton long (cm)</th>\n",
       "      <th>Carton width</th>\n",
       "      <th>Carton height</th>\n",
       "      <th>Product long</th>\n",
       "      <th>Product width</th>\n",
       "      <th>Product height</th>\n",
       "      <th>Packaging long</th>\n",
       "      <th>Packaging width</th>\n",
       "      <th>Packaging height</th>\n",
       "      <th>GW(KGS)</th>\n",
       "      <th>NW(KGS)</th>\n",
       "    </tr>\n",
       "  </thead>\n",
       "  <tbody>\n",
       "    <tr>\n",
       "      <td>count</td>\n",
       "      <td>9745.000000</td>\n",
       "      <td>10000.000000</td>\n",
       "      <td>10000.000000</td>\n",
       "      <td>10000.000000</td>\n",
       "      <td>10000.000000</td>\n",
       "      <td>10000.000000</td>\n",
       "      <td>9031.000000</td>\n",
       "      <td>9031.000000</td>\n",
       "      <td>8905.000000</td>\n",
       "      <td>9863.000000</td>\n",
       "      <td>9863.000000</td>\n",
       "      <td>9889.000000</td>\n",
       "      <td>9981.000000</td>\n",
       "      <td>9995.000000</td>\n",
       "    </tr>\n",
       "    <tr>\n",
       "      <td>mean</td>\n",
       "      <td>1.379374</td>\n",
       "      <td>124.938200</td>\n",
       "      <td>0.237879</td>\n",
       "      <td>74.911910</td>\n",
       "      <td>42.653980</td>\n",
       "      <td>71.577540</td>\n",
       "      <td>7.960665</td>\n",
       "      <td>3.833382</td>\n",
       "      <td>4.932617</td>\n",
       "      <td>20.210590</td>\n",
       "      <td>7.573989</td>\n",
       "      <td>15.963585</td>\n",
       "      <td>20.255057</td>\n",
       "      <td>18.079128</td>\n",
       "    </tr>\n",
       "    <tr>\n",
       "      <td>std</td>\n",
       "      <td>1.017320</td>\n",
       "      <td>206.777673</td>\n",
       "      <td>0.118930</td>\n",
       "      <td>15.718164</td>\n",
       "      <td>10.528546</td>\n",
       "      <td>19.592152</td>\n",
       "      <td>15.367712</td>\n",
       "      <td>9.347537</td>\n",
       "      <td>10.751357</td>\n",
       "      <td>17.246599</td>\n",
       "      <td>7.569396</td>\n",
       "      <td>13.814170</td>\n",
       "      <td>8.726108</td>\n",
       "      <td>8.193619</td>\n",
       "    </tr>\n",
       "    <tr>\n",
       "      <td>min</td>\n",
       "      <td>0.000000</td>\n",
       "      <td>0.000000</td>\n",
       "      <td>0.000000</td>\n",
       "      <td>0.000000</td>\n",
       "      <td>0.000000</td>\n",
       "      <td>0.000000</td>\n",
       "      <td>0.000000</td>\n",
       "      <td>0.000000</td>\n",
       "      <td>0.000000</td>\n",
       "      <td>0.000000</td>\n",
       "      <td>0.000000</td>\n",
       "      <td>0.000000</td>\n",
       "      <td>0.000000</td>\n",
       "      <td>0.000000</td>\n",
       "    </tr>\n",
       "    <tr>\n",
       "      <td>25%</td>\n",
       "      <td>0.000000</td>\n",
       "      <td>24.000000</td>\n",
       "      <td>0.169000</td>\n",
       "      <td>64.500000</td>\n",
       "      <td>35.000000</td>\n",
       "      <td>60.000000</td>\n",
       "      <td>0.000000</td>\n",
       "      <td>0.000000</td>\n",
       "      <td>0.000000</td>\n",
       "      <td>0.000000</td>\n",
       "      <td>0.000000</td>\n",
       "      <td>0.000000</td>\n",
       "      <td>16.000000</td>\n",
       "      <td>14.000000</td>\n",
       "    </tr>\n",
       "    <tr>\n",
       "      <td>50%</td>\n",
       "      <td>2.000000</td>\n",
       "      <td>60.000000</td>\n",
       "      <td>0.245000</td>\n",
       "      <td>77.000000</td>\n",
       "      <td>41.000000</td>\n",
       "      <td>74.000000</td>\n",
       "      <td>0.000000</td>\n",
       "      <td>0.000000</td>\n",
       "      <td>0.000000</td>\n",
       "      <td>19.500000</td>\n",
       "      <td>6.000000</td>\n",
       "      <td>16.000000</td>\n",
       "      <td>21.000000</td>\n",
       "      <td>18.700000</td>\n",
       "    </tr>\n",
       "    <tr>\n",
       "      <td>75%</td>\n",
       "      <td>2.000000</td>\n",
       "      <td>144.000000</td>\n",
       "      <td>0.310000</td>\n",
       "      <td>86.000000</td>\n",
       "      <td>48.000000</td>\n",
       "      <td>85.000000</td>\n",
       "      <td>12.000000</td>\n",
       "      <td>5.300000</td>\n",
       "      <td>6.500000</td>\n",
       "      <td>31.000000</td>\n",
       "      <td>11.000000</td>\n",
       "      <td>26.000000</td>\n",
       "      <td>25.000000</td>\n",
       "      <td>23.000000</td>\n",
       "    </tr>\n",
       "    <tr>\n",
       "      <td>max</td>\n",
       "      <td>12.000000</td>\n",
       "      <td>5000.000000</td>\n",
       "      <td>3.797000</td>\n",
       "      <td>202.000000</td>\n",
       "      <td>188.000000</td>\n",
       "      <td>183.000000</td>\n",
       "      <td>152.000000</td>\n",
       "      <td>407.000000</td>\n",
       "      <td>138.000000</td>\n",
       "      <td>94.000000</td>\n",
       "      <td>47.200000</td>\n",
       "      <td>95.500000</td>\n",
       "      <td>63.000000</td>\n",
       "      <td>60.000000</td>\n",
       "    </tr>\n",
       "  </tbody>\n",
       "</table>\n",
       "</div>"
      ],
      "text/plain": [
       "             INNER       Qty/Ctn           CBM  Carton long (cm)  \\\n",
       "count  9745.000000  10000.000000  10000.000000      10000.000000   \n",
       "mean      1.379374    124.938200      0.237879         74.911910   \n",
       "std       1.017320    206.777673      0.118930         15.718164   \n",
       "min       0.000000      0.000000      0.000000          0.000000   \n",
       "25%       0.000000     24.000000      0.169000         64.500000   \n",
       "50%       2.000000     60.000000      0.245000         77.000000   \n",
       "75%       2.000000    144.000000      0.310000         86.000000   \n",
       "max      12.000000   5000.000000      3.797000        202.000000   \n",
       "\n",
       "       Carton width  Carton height  Product long  Product width  \\\n",
       "count  10000.000000   10000.000000   9031.000000    9031.000000   \n",
       "mean      42.653980      71.577540      7.960665       3.833382   \n",
       "std       10.528546      19.592152     15.367712       9.347537   \n",
       "min        0.000000       0.000000      0.000000       0.000000   \n",
       "25%       35.000000      60.000000      0.000000       0.000000   \n",
       "50%       41.000000      74.000000      0.000000       0.000000   \n",
       "75%       48.000000      85.000000     12.000000       5.300000   \n",
       "max      188.000000     183.000000    152.000000     407.000000   \n",
       "\n",
       "       Product height  Packaging long  Packaging width  Packaging height  \\\n",
       "count     8905.000000     9863.000000      9863.000000       9889.000000   \n",
       "mean         4.932617       20.210590         7.573989         15.963585   \n",
       "std         10.751357       17.246599         7.569396         13.814170   \n",
       "min          0.000000        0.000000         0.000000          0.000000   \n",
       "25%          0.000000        0.000000         0.000000          0.000000   \n",
       "50%          0.000000       19.500000         6.000000         16.000000   \n",
       "75%          6.500000       31.000000        11.000000         26.000000   \n",
       "max        138.000000       94.000000        47.200000         95.500000   \n",
       "\n",
       "           GW(KGS)      NW(KGS)  \n",
       "count  9981.000000  9995.000000  \n",
       "mean     20.255057    18.079128  \n",
       "std       8.726108     8.193619  \n",
       "min       0.000000     0.000000  \n",
       "25%      16.000000    14.000000  \n",
       "50%      21.000000    18.700000  \n",
       "75%      25.000000    23.000000  \n",
       "max      63.000000    60.000000  "
      ]
     },
     "execution_count": 12,
     "metadata": {},
     "output_type": "execute_result"
    }
   ],
   "source": [
    "#Lets see how the numerical variables are distributed\n",
    "toy_df.describe()"
   ]
  },
  {
   "cell_type": "code",
   "execution_count": 13,
   "metadata": {},
   "outputs": [
    {
     "data": {
      "text/plain": [
       "Item No#               0\n",
       "Description            0\n",
       "Package                2\n",
       "INNER                255\n",
       "Qty/Ctn                0\n",
       "CBM                    0\n",
       "Carton long (cm)       0\n",
       "Carton width           0\n",
       "Carton height          0\n",
       "Product long         969\n",
       "Product width        969\n",
       "Product height      1095\n",
       "Packaging long       137\n",
       "Packaging width      137\n",
       "Packaging height     111\n",
       "GW(KGS)               19\n",
       "NW(KGS)                5\n",
       "dtype: int64"
      ]
     },
     "execution_count": 13,
     "metadata": {},
     "output_type": "execute_result"
    }
   ],
   "source": [
    "# Do we have missing values?\n",
    "toy_df.isnull().sum(axis = 0)"
   ]
  },
  {
   "cell_type": "markdown",
   "metadata": {},
   "source": [
    "## Types of products "
   ]
  },
  {
   "cell_type": "markdown",
   "metadata": {},
   "source": [
    "At first, an analysis of the types of products could show how the products are organized. In that way, I will create a data frame with only the categorical values of each product, and analyze it "
   ]
  },
  {
   "cell_type": "code",
   "execution_count": 15,
   "metadata": {},
   "outputs": [],
   "source": [
    "cat_toy_df = toy_df.select_dtypes(include=['object']).copy()"
   ]
  },
  {
   "cell_type": "code",
   "execution_count": 16,
   "metadata": {},
   "outputs": [
    {
     "data": {
      "text/html": [
       "<div>\n",
       "<style scoped>\n",
       "    .dataframe tbody tr th:only-of-type {\n",
       "        vertical-align: middle;\n",
       "    }\n",
       "\n",
       "    .dataframe tbody tr th {\n",
       "        vertical-align: top;\n",
       "    }\n",
       "\n",
       "    .dataframe thead th {\n",
       "        text-align: right;\n",
       "    }\n",
       "</style>\n",
       "<table border=\"1\" class=\"dataframe\">\n",
       "  <thead>\n",
       "    <tr style=\"text-align: right;\">\n",
       "      <th></th>\n",
       "      <th>Item No#</th>\n",
       "      <th>Description</th>\n",
       "      <th>Package</th>\n",
       "    </tr>\n",
       "  </thead>\n",
       "  <tbody>\n",
       "    <tr>\n",
       "      <td>0</td>\n",
       "      <td>AN933806</td>\n",
       "      <td>ANIMAL SET  4PCS</td>\n",
       "      <td>WINDOW BOX</td>\n",
       "    </tr>\n",
       "    <tr>\n",
       "      <td>1</td>\n",
       "      <td>AN954488</td>\n",
       "      <td>ANIMAL SET  4PCS</td>\n",
       "      <td>PVC BAG WITH HEADER</td>\n",
       "    </tr>\n",
       "    <tr>\n",
       "      <td>2</td>\n",
       "      <td>AN954489</td>\n",
       "      <td>ANIMAL SET  6PCS</td>\n",
       "      <td>PVC BAG WITH HEADER</td>\n",
       "    </tr>\n",
       "    <tr>\n",
       "      <td>3</td>\n",
       "      <td>AN956141</td>\n",
       "      <td>DINOSAUR SET  34PCS</td>\n",
       "      <td>PVC TUBE</td>\n",
       "    </tr>\n",
       "    <tr>\n",
       "      <td>4</td>\n",
       "      <td>AN956142</td>\n",
       "      <td>ANIMAL SET  34PCS</td>\n",
       "      <td>PVC TUBE</td>\n",
       "    </tr>\n",
       "  </tbody>\n",
       "</table>\n",
       "</div>"
      ],
      "text/plain": [
       "   Item No#          Description              Package\n",
       "0  AN933806     ANIMAL SET  4PCS           WINDOW BOX\n",
       "1  AN954488     ANIMAL SET  4PCS  PVC BAG WITH HEADER\n",
       "2  AN954489     ANIMAL SET  6PCS  PVC BAG WITH HEADER\n",
       "3  AN956141  DINOSAUR SET  34PCS             PVC TUBE\n",
       "4  AN956142    ANIMAL SET  34PCS             PVC TUBE"
      ]
     },
     "execution_count": 16,
     "metadata": {},
     "output_type": "execute_result"
    }
   ],
   "source": [
    "cat_toy_df.head(5)"
   ]
  },
  {
   "cell_type": "code",
   "execution_count": 17,
   "metadata": {},
   "outputs": [
    {
     "name": "stdout",
     "output_type": "stream",
     "text": [
      "2\n"
     ]
    }
   ],
   "source": [
    "print(cat_toy_df.isnull().values.sum()) "
   ]
  },
  {
   "cell_type": "code",
   "execution_count": 18,
   "metadata": {},
   "outputs": [
    {
     "name": "stdout",
     "output_type": "stream",
     "text": [
      "Item No#       0\n",
      "Description    0\n",
      "Package        2\n",
      "dtype: int64\n"
     ]
    }
   ],
   "source": [
    "print(cat_toy_df.isnull().sum()) #two missing values."
   ]
  },
  {
   "cell_type": "code",
   "execution_count": 19,
   "metadata": {},
   "outputs": [
    {
     "data": {
      "text/plain": [
       "ANIMAL                                 269\n",
       "ACTION FIGURE                          196\n",
       "MODELLING DOUGH                        195\n",
       "FREEWHEEL CONSTRUCTION VEHICLE         136\n",
       "11.5”SOLID FASHION DOLL                129\n",
       "                                      ... \n",
       "BEAUTY SET                               1\n",
       "METAL BUILDING BLOCKS  103PCS            1\n",
       "BUILDING BLOCKS  159PCS                  1\n",
       "FURNITURE SET WITH LIGHT AND MUSIC       1\n",
       "FREEWHEEL SET                            1\n",
       "Name: Description, Length: 2386, dtype: int64"
      ]
     },
     "execution_count": 19,
     "metadata": {},
     "output_type": "execute_result"
    }
   ],
   "source": [
    "cat_toy_df['Description'].value_counts()"
   ]
  },
  {
   "cell_type": "code",
   "execution_count": 20,
   "metadata": {},
   "outputs": [
    {
     "data": {
      "text/plain": [
       "WINDOW BOX              2959\n",
       "COLOR BOX               1356\n",
       "OPEN TOUCH BOX          1021\n",
       "BLISTER CARD             898\n",
       "POLY BAG                 626\n",
       "                        ... \n",
       "HANGTAG+PLASTIC BOX        1\n",
       "CARRY BAG+WRAP CARD        1\n",
       "DISPLAY BOX+HAND BOX       1\n",
       "NET BAG                    1\n",
       "TIN BAG                    1\n",
       "Name: Package, Length: 98, dtype: int64"
      ]
     },
     "execution_count": 20,
     "metadata": {},
     "output_type": "execute_result"
    }
   ],
   "source": [
    "cat_toy_df['Package'].value_counts()"
   ]
  },
  {
   "cell_type": "code",
   "execution_count": 21,
   "metadata": {},
   "outputs": [
    {
     "data": {
      "text/plain": [
       "TS963006     1\n",
       "AN971300     1\n",
       "OT961744     1\n",
       "LK969750     1\n",
       "LK974852     1\n",
       "            ..\n",
       "VM972201     1\n",
       "TBR975150    1\n",
       "BT971916     1\n",
       "EG971050     1\n",
       "AN969532     1\n",
       "Name: Item No#, Length: 10000, dtype: int64"
      ]
     },
     "execution_count": 21,
     "metadata": {},
     "output_type": "execute_result"
    }
   ],
   "source": [
    "cat_toy_df['Item No#'].value_counts()"
   ]
  },
  {
   "cell_type": "markdown",
   "metadata": {},
   "source": [
    "So far, we could see that the 'Item No#' column is a unique value per each product (in logistic this value is known as SKU or Stock Keeping Unit), the 'Description' value describes the product type of each item, and the 'Package' is the type of package that each product has. \n",
    "From the exchange with the client, we have already found that the same product could have a different package, and correspond to a different SKU and this is usually associated with the perceived quality and value. "
   ]
  },
  {
   "cell_type": "markdown",
   "metadata": {},
   "source": [
    "## Package Analysis"
   ]
  },
  {
   "cell_type": "markdown",
   "metadata": {},
   "source": [
    "From the previous analysis, we find that the SKU is a unique value, but the \"Description\" might represent the same product with a different package. On the other side, the package type varies between packages widely use, to some others with just one product."
   ]
  },
  {
   "cell_type": "code",
   "execution_count": 23,
   "metadata": {},
   "outputs": [
    {
     "data": {
      "text/plain": [
       "WINDOW BOX              2959\n",
       "COLOR BOX               1356\n",
       "OPEN TOUCH BOX          1021\n",
       "BLISTER CARD             898\n",
       "POLY BAG                 626\n",
       "                        ... \n",
       "HANGTAG+PLASTIC BOX        1\n",
       "CARRY BAG+WRAP CARD        1\n",
       "DISPLAY BOX+HAND BOX       1\n",
       "NET BAG                    1\n",
       "TIN BAG                    1\n",
       "Name: Package, Length: 98, dtype: int64"
      ]
     },
     "execution_count": 23,
     "metadata": {},
     "output_type": "execute_result"
    }
   ],
   "source": [
    " cat_toy_df['Package'].value_counts()"
   ]
  },
  {
   "cell_type": "code",
   "execution_count": 24,
   "metadata": {},
   "outputs": [],
   "source": [
    "Product_per_Package = cat_toy_df['Package'].value_counts()"
   ]
  },
  {
   "cell_type": "code",
   "execution_count": 25,
   "metadata": {},
   "outputs": [
    {
     "data": {
      "text/plain": [
       "WINDOW BOX             2959\n",
       "COLOR BOX              1356\n",
       "OPEN TOUCH BOX         1021\n",
       "BLISTER CARD            898\n",
       "POLY BAG                626\n",
       "PVC BAG WITH HEADER     564\n",
       "DISPLAY BOX             353\n",
       "MESH BAG W/TAG          197\n",
       "PVC PLATFORM            162\n",
       "DOUBLE BLISTER          134\n",
       "COLOR GIFT BOX          103\n",
       "HANGTAG                 101\n",
       "WINDOW BOX+PDQ           94\n",
       "HANGTAG+POLY BAG         91\n",
       "SLIDE CARD               88\n",
       "Name: Package, dtype: int64"
      ]
     },
     "execution_count": 25,
     "metadata": {},
     "output_type": "execute_result"
    }
   ],
   "source": [
    "Product_per_Package.head(15) # Arbitrary selected the 15th largest Packages Types. "
   ]
  },
  {
   "cell_type": "code",
   "execution_count": 26,
   "metadata": {},
   "outputs": [],
   "source": [
    "Product_per_Package = Product_per_Package.head(12) # We choose only packages types with more than 100  items"
   ]
  },
  {
   "cell_type": "code",
   "execution_count": 27,
   "metadata": {},
   "outputs": [
    {
     "data": {
      "text/plain": [
       "8474"
      ]
     },
     "execution_count": 27,
     "metadata": {},
     "output_type": "execute_result"
    }
   ],
   "source": [
    "Product_per_Package.sum()"
   ]
  },
  {
   "cell_type": "markdown",
   "metadata": {},
   "source": [
    "_Represents almost the 84% of the data_"
   ]
  },
  {
   "cell_type": "code",
   "execution_count": 28,
   "metadata": {},
   "outputs": [
    {
     "data": {
      "text/plain": [
       "<PandasArray>\n",
       "[2959, 1356, 1021, 898, 626, 564, 353, 197, 162, 134, 103, 101]\n",
       "Length: 12, dtype: int64"
      ]
     },
     "execution_count": 28,
     "metadata": {},
     "output_type": "execute_result"
    }
   ],
   "source": [
    "Product_per_Package.array"
   ]
  },
  {
   "cell_type": "markdown",
   "metadata": {},
   "source": [
    "### Package Visualization"
   ]
  },
  {
   "cell_type": "code",
   "execution_count": 29,
   "metadata": {},
   "outputs": [],
   "source": [
    "import matplotlib.pyplot as plt"
   ]
  },
  {
   "cell_type": "code",
   "execution_count": 30,
   "metadata": {},
   "outputs": [
    {
     "data": {
      "image/png": "[encoded data removed]",
      "text/plain": [
       "<Figure size 432x288 with 1 Axes>"
      ]
     },
     "metadata": {
      "needs_background": "light"
     },
     "output_type": "display_data"
    }
   ],
   "source": [
    "objects = ('WINDOW BOX','COLOR BOX','OPEN T. BOX','BLISTER CARD', 'POLY BAG','PVC BAG W.HEADER', 'DISPLAY BOX',\n",
    "           'MESH BAG W/TAG', 'PVC PLATFORM','DOUBLE BLISTER', 'COLOR GIFT BOX','HANGTAG')\n",
    "y_pos = np.arange(len(objects))\n",
    "performance = [2959, 1356, 1021, 898, 626, 564, 353, 197, 162, 134, 103, 101]\n",
    "\n",
    "plt.bar(y_pos, performance, align='center', alpha=0.4)\n",
    "plt.xticks(y_pos, objects, rotation=45, fontsize=7)\n",
    "plt.ylabel('Quantity')\n",
    "plt.title('Package Type')\n",
    "\n",
    "plt.show()"
   ]
  },
  {
   "cell_type": "markdown",
   "metadata": {},
   "source": [
    "## Creating Variables and Data Visualization"
   ]
  },
  {
   "cell_type": "markdown",
   "metadata": {},
   "source": [
    "The next step in the process is to create variables that could be useful, to improve the understanding of the data frame and to visualize their distribution."
   ]
  },
  {
   "cell_type": "code",
   "execution_count": 31,
   "metadata": {},
   "outputs": [
    {
     "data": {
      "text/plain": [
       "0    3.5\n",
       "1    2.0\n",
       "2    2.0\n",
       "3    2.0\n",
       "4    2.0\n",
       "Name: Package_weight, dtype: float64"
      ]
     },
     "execution_count": 31,
     "metadata": {},
     "output_type": "execute_result"
    }
   ],
   "source": [
    "def Package_weight(x, y):\n",
    "    if x > 0:\n",
    "        res = y - x \n",
    "    else:\n",
    "        res = 0\n",
    "    return res\n",
    "\n",
    "toy_df['Package_weight'] = toy_df.apply(lambda x: Package_weight(x['NW(KGS)'], x['GW(KGS)']), axis = 1)\n",
    "toy_df['Package_weight'].head()"
   ]
  },
  {
   "cell_type": "code",
   "execution_count": 32,
   "metadata": {},
   "outputs": [
    {
     "data": {
      "text/html": [
       "<div>\n",
       "<style scoped>\n",
       "    .dataframe tbody tr th:only-of-type {\n",
       "        vertical-align: middle;\n",
       "    }\n",
       "\n",
       "    .dataframe tbody tr th {\n",
       "        vertical-align: top;\n",
       "    }\n",
       "\n",
       "    .dataframe thead th {\n",
       "        text-align: right;\n",
       "    }\n",
       "</style>\n",
       "<table border=\"1\" class=\"dataframe\">\n",
       "  <thead>\n",
       "    <tr style=\"text-align: right;\">\n",
       "      <th></th>\n",
       "      <th>INNER</th>\n",
       "      <th>Qty/Ctn</th>\n",
       "      <th>CBM</th>\n",
       "      <th>Carton long (cm)</th>\n",
       "      <th>Carton width</th>\n",
       "      <th>Carton height</th>\n",
       "      <th>Product long</th>\n",
       "      <th>Product width</th>\n",
       "      <th>Product height</th>\n",
       "      <th>Packaging long</th>\n",
       "      <th>Packaging width</th>\n",
       "      <th>Packaging height</th>\n",
       "      <th>GW(KGS)</th>\n",
       "      <th>NW(KGS)</th>\n",
       "      <th>Package_weight</th>\n",
       "    </tr>\n",
       "  </thead>\n",
       "  <tbody>\n",
       "    <tr>\n",
       "      <td>count</td>\n",
       "      <td>9745.000000</td>\n",
       "      <td>10000.000000</td>\n",
       "      <td>10000.000000</td>\n",
       "      <td>10000.000000</td>\n",
       "      <td>10000.000000</td>\n",
       "      <td>10000.000000</td>\n",
       "      <td>9031.000000</td>\n",
       "      <td>9031.000000</td>\n",
       "      <td>8905.000000</td>\n",
       "      <td>9863.000000</td>\n",
       "      <td>9863.000000</td>\n",
       "      <td>9889.000000</td>\n",
       "      <td>9981.000000</td>\n",
       "      <td>9995.000000</td>\n",
       "      <td>9996.000000</td>\n",
       "    </tr>\n",
       "    <tr>\n",
       "      <td>mean</td>\n",
       "      <td>1.379374</td>\n",
       "      <td>124.938200</td>\n",
       "      <td>0.237879</td>\n",
       "      <td>74.911910</td>\n",
       "      <td>42.653980</td>\n",
       "      <td>71.577540</td>\n",
       "      <td>7.960665</td>\n",
       "      <td>3.833382</td>\n",
       "      <td>4.932617</td>\n",
       "      <td>20.210590</td>\n",
       "      <td>7.573989</td>\n",
       "      <td>15.963585</td>\n",
       "      <td>20.255057</td>\n",
       "      <td>18.079128</td>\n",
       "      <td>2.152923</td>\n",
       "    </tr>\n",
       "    <tr>\n",
       "      <td>std</td>\n",
       "      <td>1.017320</td>\n",
       "      <td>206.777673</td>\n",
       "      <td>0.118930</td>\n",
       "      <td>15.718164</td>\n",
       "      <td>10.528546</td>\n",
       "      <td>19.592152</td>\n",
       "      <td>15.367712</td>\n",
       "      <td>9.347537</td>\n",
       "      <td>10.751357</td>\n",
       "      <td>17.246599</td>\n",
       "      <td>7.569396</td>\n",
       "      <td>13.814170</td>\n",
       "      <td>8.726108</td>\n",
       "      <td>8.193619</td>\n",
       "      <td>1.296244</td>\n",
       "    </tr>\n",
       "    <tr>\n",
       "      <td>min</td>\n",
       "      <td>0.000000</td>\n",
       "      <td>0.000000</td>\n",
       "      <td>0.000000</td>\n",
       "      <td>0.000000</td>\n",
       "      <td>0.000000</td>\n",
       "      <td>0.000000</td>\n",
       "      <td>0.000000</td>\n",
       "      <td>0.000000</td>\n",
       "      <td>0.000000</td>\n",
       "      <td>0.000000</td>\n",
       "      <td>0.000000</td>\n",
       "      <td>0.000000</td>\n",
       "      <td>0.000000</td>\n",
       "      <td>0.000000</td>\n",
       "      <td>-49.500000</td>\n",
       "    </tr>\n",
       "    <tr>\n",
       "      <td>25%</td>\n",
       "      <td>0.000000</td>\n",
       "      <td>24.000000</td>\n",
       "      <td>0.169000</td>\n",
       "      <td>64.500000</td>\n",
       "      <td>35.000000</td>\n",
       "      <td>60.000000</td>\n",
       "      <td>0.000000</td>\n",
       "      <td>0.000000</td>\n",
       "      <td>0.000000</td>\n",
       "      <td>0.000000</td>\n",
       "      <td>0.000000</td>\n",
       "      <td>0.000000</td>\n",
       "      <td>16.000000</td>\n",
       "      <td>14.000000</td>\n",
       "      <td>2.000000</td>\n",
       "    </tr>\n",
       "    <tr>\n",
       "      <td>50%</td>\n",
       "      <td>2.000000</td>\n",
       "      <td>60.000000</td>\n",
       "      <td>0.245000</td>\n",
       "      <td>77.000000</td>\n",
       "      <td>41.000000</td>\n",
       "      <td>74.000000</td>\n",
       "      <td>0.000000</td>\n",
       "      <td>0.000000</td>\n",
       "      <td>0.000000</td>\n",
       "      <td>19.500000</td>\n",
       "      <td>6.000000</td>\n",
       "      <td>16.000000</td>\n",
       "      <td>21.000000</td>\n",
       "      <td>18.700000</td>\n",
       "      <td>2.000000</td>\n",
       "    </tr>\n",
       "    <tr>\n",
       "      <td>75%</td>\n",
       "      <td>2.000000</td>\n",
       "      <td>144.000000</td>\n",
       "      <td>0.310000</td>\n",
       "      <td>86.000000</td>\n",
       "      <td>48.000000</td>\n",
       "      <td>85.000000</td>\n",
       "      <td>12.000000</td>\n",
       "      <td>5.300000</td>\n",
       "      <td>6.500000</td>\n",
       "      <td>31.000000</td>\n",
       "      <td>11.000000</td>\n",
       "      <td>26.000000</td>\n",
       "      <td>25.000000</td>\n",
       "      <td>23.000000</td>\n",
       "      <td>3.000000</td>\n",
       "    </tr>\n",
       "    <tr>\n",
       "      <td>max</td>\n",
       "      <td>12.000000</td>\n",
       "      <td>5000.000000</td>\n",
       "      <td>3.797000</td>\n",
       "      <td>202.000000</td>\n",
       "      <td>188.000000</td>\n",
       "      <td>183.000000</td>\n",
       "      <td>152.000000</td>\n",
       "      <td>407.000000</td>\n",
       "      <td>138.000000</td>\n",
       "      <td>94.000000</td>\n",
       "      <td>47.200000</td>\n",
       "      <td>95.500000</td>\n",
       "      <td>63.000000</td>\n",
       "      <td>60.000000</td>\n",
       "      <td>14.000000</td>\n",
       "    </tr>\n",
       "  </tbody>\n",
       "</table>\n",
       "</div>"
      ],
      "text/plain": [
       "             INNER       Qty/Ctn           CBM  Carton long (cm)  \\\n",
       "count  9745.000000  10000.000000  10000.000000      10000.000000   \n",
       "mean      1.379374    124.938200      0.237879         74.911910   \n",
       "std       1.017320    206.777673      0.118930         15.718164   \n",
       "min       0.000000      0.000000      0.000000          0.000000   \n",
       "25%       0.000000     24.000000      0.169000         64.500000   \n",
       "50%       2.000000     60.000000      0.245000         77.000000   \n",
       "75%       2.000000    144.000000      0.310000         86.000000   \n",
       "max      12.000000   5000.000000      3.797000        202.000000   \n",
       "\n",
       "       Carton width  Carton height  Product long  Product width  \\\n",
       "count  10000.000000   10000.000000   9031.000000    9031.000000   \n",
       "mean      42.653980      71.577540      7.960665       3.833382   \n",
       "std       10.528546      19.592152     15.367712       9.347537   \n",
       "min        0.000000       0.000000      0.000000       0.000000   \n",
       "25%       35.000000      60.000000      0.000000       0.000000   \n",
       "50%       41.000000      74.000000      0.000000       0.000000   \n",
       "75%       48.000000      85.000000     12.000000       5.300000   \n",
       "max      188.000000     183.000000    152.000000     407.000000   \n",
       "\n",
       "       Product height  Packaging long  Packaging width  Packaging height  \\\n",
       "count     8905.000000     9863.000000      9863.000000       9889.000000   \n",
       "mean         4.932617       20.210590         7.573989         15.963585   \n",
       "std         10.751357       17.246599         7.569396         13.814170   \n",
       "min          0.000000        0.000000         0.000000          0.000000   \n",
       "25%          0.000000        0.000000         0.000000          0.000000   \n",
       "50%          0.000000       19.500000         6.000000         16.000000   \n",
       "75%          6.500000       31.000000        11.000000         26.000000   \n",
       "max        138.000000       94.000000        47.200000         95.500000   \n",
       "\n",
       "           GW(KGS)      NW(KGS)  Package_weight  \n",
       "count  9981.000000  9995.000000     9996.000000  \n",
       "mean     20.255057    18.079128        2.152923  \n",
       "std       8.726108     8.193619        1.296244  \n",
       "min       0.000000     0.000000      -49.500000  \n",
       "25%      16.000000    14.000000        2.000000  \n",
       "50%      21.000000    18.700000        2.000000  \n",
       "75%      25.000000    23.000000        3.000000  \n",
       "max      63.000000    60.000000       14.000000  "
      ]
     },
     "execution_count": 32,
     "metadata": {},
     "output_type": "execute_result"
    }
   ],
   "source": [
    "toy_df.describe()"
   ]
  },
  {
   "cell_type": "markdown",
   "metadata": {},
   "source": [
    "The variable 'Package_weight' results from the subtraction from the gross weight of the net weight."
   ]
  },
  {
   "cell_type": "code",
   "execution_count": 33,
   "metadata": {},
   "outputs": [
    {
     "data": {
      "text/plain": [
       "count    9996.000000\n",
       "mean        2.152923\n",
       "std         1.296244\n",
       "min       -49.500000\n",
       "25%         2.000000\n",
       "50%         2.000000\n",
       "75%         3.000000\n",
       "max        14.000000\n",
       "Name: Package_weight, dtype: float64"
      ]
     },
     "execution_count": 33,
     "metadata": {},
     "output_type": "execute_result"
    }
   ],
   "source": [
    "toy_df['Package_weight'].describe()"
   ]
  },
  {
   "cell_type": "markdown",
   "metadata": {},
   "source": [
    "The values of this variable could not be **negative**. A package always represents weight."
   ]
  },
  {
   "cell_type": "code",
   "execution_count": 34,
   "metadata": {},
   "outputs": [],
   "source": [
    "indexPackage = toy_df[ toy_df['Package_weight'] <= 0 ].index\n",
    "# Delete rows with negative values\n",
    "toy_df.drop(indexPackage , inplace=True)"
   ]
  },
  {
   "cell_type": "code",
   "execution_count": 35,
   "metadata": {},
   "outputs": [
    {
     "data": {
      "text/plain": [
       "count    9271.000000\n",
       "mean        2.348807\n",
       "std         0.895711\n",
       "min         0.300000\n",
       "25%         2.000000\n",
       "50%         2.000000\n",
       "75%         3.000000\n",
       "max        14.000000\n",
       "Name: Package_weight, dtype: float64"
      ]
     },
     "execution_count": 35,
     "metadata": {},
     "output_type": "execute_result"
    }
   ],
   "source": [
    "toy_df['Package_weight'].describe()"
   ]
  },
  {
   "cell_type": "markdown",
   "metadata": {},
   "source": [
    "### Analyzing the weight per type of package"
   ]
  },
  {
   "cell_type": "code",
   "execution_count": 36,
   "metadata": {},
   "outputs": [
    {
     "data": {
      "text/html": [
       "<div>\n",
       "<style scoped>\n",
       "    .dataframe tbody tr th:only-of-type {\n",
       "        vertical-align: middle;\n",
       "    }\n",
       "\n",
       "    .dataframe tbody tr th {\n",
       "        vertical-align: top;\n",
       "    }\n",
       "\n",
       "    .dataframe thead th {\n",
       "        text-align: right;\n",
       "    }\n",
       "</style>\n",
       "<table border=\"1\" class=\"dataframe\">\n",
       "  <thead>\n",
       "    <tr style=\"text-align: right;\">\n",
       "      <th></th>\n",
       "      <th>Package_weight</th>\n",
       "    </tr>\n",
       "    <tr>\n",
       "      <th>Package</th>\n",
       "      <th></th>\n",
       "    </tr>\n",
       "  </thead>\n",
       "  <tbody>\n",
       "    <tr>\n",
       "      <td>WRAPPING CARD+HAND BOX</td>\n",
       "      <td>4.750000</td>\n",
       "    </tr>\n",
       "    <tr>\n",
       "      <td>COLOR GIFT BOX+PDQ</td>\n",
       "      <td>3.462222</td>\n",
       "    </tr>\n",
       "    <tr>\n",
       "      <td>COLOR GIFT BOX+SHRINK FILM</td>\n",
       "      <td>3.285714</td>\n",
       "    </tr>\n",
       "    <tr>\n",
       "      <td>HAND BASKET +HANGTAG</td>\n",
       "      <td>3.200000</td>\n",
       "    </tr>\n",
       "    <tr>\n",
       "      <td>PLASTIC BARREL</td>\n",
       "      <td>3.187500</td>\n",
       "    </tr>\n",
       "    <tr>\n",
       "      <td>...</td>\n",
       "      <td>...</td>\n",
       "    </tr>\n",
       "    <tr>\n",
       "      <td>BULK</td>\n",
       "      <td>1.142857</td>\n",
       "    </tr>\n",
       "    <tr>\n",
       "      <td>CARTON</td>\n",
       "      <td>1.105882</td>\n",
       "    </tr>\n",
       "    <tr>\n",
       "      <td>HANGTAG+PDQ</td>\n",
       "      <td>1.083333</td>\n",
       "    </tr>\n",
       "    <tr>\n",
       "      <td>FOAM BOX</td>\n",
       "      <td>1.000000</td>\n",
       "    </tr>\n",
       "    <tr>\n",
       "      <td>WOODEN BOX</td>\n",
       "      <td>1.000000</td>\n",
       "    </tr>\n",
       "  </tbody>\n",
       "</table>\n",
       "<p>95 rows × 1 columns</p>\n",
       "</div>"
      ],
      "text/plain": [
       "                            Package_weight\n",
       "Package                                   \n",
       "WRAPPING CARD+HAND BOX            4.750000\n",
       "COLOR GIFT BOX+PDQ                3.462222\n",
       "COLOR GIFT BOX+SHRINK FILM        3.285714\n",
       "HAND BASKET +HANGTAG              3.200000\n",
       "PLASTIC BARREL                    3.187500\n",
       "...                                    ...\n",
       "BULK                              1.142857\n",
       "CARTON                            1.105882\n",
       "HANGTAG+PDQ                       1.083333\n",
       "FOAM BOX                          1.000000\n",
       "WOODEN BOX                        1.000000\n",
       "\n",
       "[95 rows x 1 columns]"
      ]
     },
     "execution_count": 36,
     "metadata": {},
     "output_type": "execute_result"
    }
   ],
   "source": [
    "toy_df_pivot = pd.pivot_table(toy_df, values = ['Package_weight'], index ='Package', aggfunc = np.mean)\n",
    "toy_df_pivot.sort_values('Package_weight', ascending=False)"
   ]
  },
  {
   "cell_type": "code",
   "execution_count": 37,
   "metadata": {},
   "outputs": [
    {
     "data": {
      "text/html": [
       "<div>\n",
       "<style scoped>\n",
       "    .dataframe tbody tr th:only-of-type {\n",
       "        vertical-align: middle;\n",
       "    }\n",
       "\n",
       "    .dataframe tbody tr th {\n",
       "        vertical-align: top;\n",
       "    }\n",
       "\n",
       "    .dataframe thead th {\n",
       "        text-align: right;\n",
       "    }\n",
       "</style>\n",
       "<table border=\"1\" class=\"dataframe\">\n",
       "  <thead>\n",
       "    <tr style=\"text-align: right;\">\n",
       "      <th></th>\n",
       "      <th>Package_weight</th>\n",
       "    </tr>\n",
       "    <tr>\n",
       "      <th>Package</th>\n",
       "      <th></th>\n",
       "    </tr>\n",
       "  </thead>\n",
       "  <tbody>\n",
       "    <tr>\n",
       "      <td>WRAPPING CARD+HAND BOX</td>\n",
       "      <td>4.750000</td>\n",
       "    </tr>\n",
       "    <tr>\n",
       "      <td>COLOR GIFT BOX+PDQ</td>\n",
       "      <td>3.462222</td>\n",
       "    </tr>\n",
       "    <tr>\n",
       "      <td>COLOR GIFT BOX+SHRINK FILM</td>\n",
       "      <td>3.285714</td>\n",
       "    </tr>\n",
       "    <tr>\n",
       "      <td>HAND BASKET +HANGTAG</td>\n",
       "      <td>3.200000</td>\n",
       "    </tr>\n",
       "    <tr>\n",
       "      <td>PLASTIC BARREL</td>\n",
       "      <td>3.187500</td>\n",
       "    </tr>\n",
       "    <tr>\n",
       "      <td>HAND BOX</td>\n",
       "      <td>3.043478</td>\n",
       "    </tr>\n",
       "    <tr>\n",
       "      <td>SLIDE CARD</td>\n",
       "      <td>3.010465</td>\n",
       "    </tr>\n",
       "    <tr>\n",
       "      <td>PE BAG W/HEADER</td>\n",
       "      <td>3.000000</td>\n",
       "    </tr>\n",
       "    <tr>\n",
       "      <td>TIN BAG+PDQ</td>\n",
       "      <td>3.000000</td>\n",
       "    </tr>\n",
       "    <tr>\n",
       "      <td>TIN BAG</td>\n",
       "      <td>3.000000</td>\n",
       "    </tr>\n",
       "  </tbody>\n",
       "</table>\n",
       "</div>"
      ],
      "text/plain": [
       "                            Package_weight\n",
       "Package                                   \n",
       "WRAPPING CARD+HAND BOX            4.750000\n",
       "COLOR GIFT BOX+PDQ                3.462222\n",
       "COLOR GIFT BOX+SHRINK FILM        3.285714\n",
       "HAND BASKET +HANGTAG              3.200000\n",
       "PLASTIC BARREL                    3.187500\n",
       "HAND BOX                          3.043478\n",
       "SLIDE CARD                        3.010465\n",
       "PE BAG W/HEADER                   3.000000\n",
       "TIN BAG+PDQ                       3.000000\n",
       "TIN BAG                           3.000000"
      ]
     },
     "execution_count": 37,
     "metadata": {},
     "output_type": "execute_result"
    }
   ],
   "source": [
    "toy_df_pivot.sort_values('Package_weight', ascending=False).head(10)"
   ]
  },
  {
   "cell_type": "code",
   "execution_count": 40,
   "metadata": {},
   "outputs": [
    {
     "data": {
      "image/png": "[encoded data removed]",
      "text/plain": [
       "<Figure size 432x288 with 1 Axes>"
      ]
     },
     "metadata": {
      "needs_background": "light"
     },
     "output_type": "display_data"
    }
   ],
   "source": [
    "objects = ('WRAP CARD+HAND BOX','COLOR G. BOX+PDQ','COLOR G. BOX+S. FILM','H.BASKET + HANGTAG','PLASTIC BARREL', 'HAND BOX', 'SLIDE CARD',\n",
    "           'PE BAG W/HEADER', 'TIN BAG+PDQ','TIN BAG')\n",
    "y_pos = np.arange(len(objects))\n",
    "performance = [4.750000, 3.462222, 3.285714, 3.200000, 3.187500, 3.043478, 3.010465, 3.000000, 3.000000, 3.000000]\n",
    "\n",
    "plt.bar(y_pos, performance, align='center', color = 'tab:red', edgecolor = 'black', alpha=0.89)\n",
    "plt.xticks(y_pos, objects, rotation=65, fontsize=8)\n",
    "plt.ylabel('Package Weight')\n",
    "plt.xlabel('Package Type')\n",
    "plt.title('Heaviest Packages Types')\n",
    "plt.ylim(0,5)\n",
    "\n",
    "plt.show()"
   ]
  },
  {
   "cell_type": "code",
   "execution_count": null,
   "metadata": {},
   "outputs": [],
   "source": []
  },
  {
   "cell_type": "code",
   "execution_count": 41,
   "metadata": {},
   "outputs": [
    {
     "data": {
      "text/html": [
       "<div>\n",
       "<style scoped>\n",
       "    .dataframe tbody tr th:only-of-type {\n",
       "        vertical-align: middle;\n",
       "    }\n",
       "\n",
       "    .dataframe tbody tr th {\n",
       "        vertical-align: top;\n",
       "    }\n",
       "\n",
       "    .dataframe thead th {\n",
       "        text-align: right;\n",
       "    }\n",
       "</style>\n",
       "<table border=\"1\" class=\"dataframe\">\n",
       "  <thead>\n",
       "    <tr style=\"text-align: right;\">\n",
       "      <th></th>\n",
       "      <th>Package_weight</th>\n",
       "    </tr>\n",
       "    <tr>\n",
       "      <th>Package</th>\n",
       "      <th></th>\n",
       "    </tr>\n",
       "  </thead>\n",
       "  <tbody>\n",
       "    <tr>\n",
       "      <td>SHRINK FILM</td>\n",
       "      <td>1.507692</td>\n",
       "    </tr>\n",
       "    <tr>\n",
       "      <td>HOLD-ALL</td>\n",
       "      <td>1.500000</td>\n",
       "    </tr>\n",
       "    <tr>\n",
       "      <td>PVC BUCKET</td>\n",
       "      <td>1.500000</td>\n",
       "    </tr>\n",
       "    <tr>\n",
       "      <td>ZIPLOCK BAG</td>\n",
       "      <td>1.300000</td>\n",
       "    </tr>\n",
       "    <tr>\n",
       "      <td>IRON CASE</td>\n",
       "      <td>1.250000</td>\n",
       "    </tr>\n",
       "    <tr>\n",
       "      <td>BULK</td>\n",
       "      <td>1.142857</td>\n",
       "    </tr>\n",
       "    <tr>\n",
       "      <td>CARTON</td>\n",
       "      <td>1.105882</td>\n",
       "    </tr>\n",
       "    <tr>\n",
       "      <td>HANGTAG+PDQ</td>\n",
       "      <td>1.083333</td>\n",
       "    </tr>\n",
       "    <tr>\n",
       "      <td>FOAM BOX</td>\n",
       "      <td>1.000000</td>\n",
       "    </tr>\n",
       "    <tr>\n",
       "      <td>WOODEN BOX</td>\n",
       "      <td>1.000000</td>\n",
       "    </tr>\n",
       "  </tbody>\n",
       "</table>\n",
       "</div>"
      ],
      "text/plain": [
       "             Package_weight\n",
       "Package                    \n",
       "SHRINK FILM        1.507692\n",
       "HOLD-ALL           1.500000\n",
       "PVC BUCKET         1.500000\n",
       "ZIPLOCK BAG        1.300000\n",
       "IRON CASE          1.250000\n",
       "BULK               1.142857\n",
       "CARTON             1.105882\n",
       "HANGTAG+PDQ        1.083333\n",
       "FOAM BOX           1.000000\n",
       "WOODEN BOX         1.000000"
      ]
     },
     "execution_count": 41,
     "metadata": {},
     "output_type": "execute_result"
    }
   ],
   "source": [
    "toy_df_pivot.sort_values('Package_weight', ascending=False).tail(10)"
   ]
  },
  {
   "cell_type": "code",
   "execution_count": 42,
   "metadata": {},
   "outputs": [
    {
     "data": {
      "image/png": "[encoded data removed]",
      "text/plain": [
       "<Figure size 432x288 with 1 Axes>"
      ]
     },
     "metadata": {
      "needs_background": "light"
     },
     "output_type": "display_data"
    }
   ],
   "source": [
    "objects = ('SHRINK FILM','HOLD-ALL','PVC BUCKET','ZIPLOCK BAG', 'IRON CASE','BULK', 'CARTON', 'HANGTAG+PDQ', \n",
    "           'FOAM BOX','WOODEN BOX')\n",
    "y_pos = np.arange(len(objects))\n",
    "performance = [1.507692, 1.500000, 1.500000, 1.300000, 1.250000, 1.142857, 1.105882, 1.083333, 1.000000, 1.000000]\n",
    "\n",
    "plt.bar(y_pos, performance, align='center', color = 'tab:cyan', edgecolor = 'black', alpha=0.39)\n",
    "plt.xticks(y_pos, objects, rotation=70, fontsize=8)\n",
    "plt.ylabel('Package Weight')\n",
    "plt.xlabel('Package Type')\n",
    "plt.title('Lightest Packages Types')\n",
    "plt.ylim(0,5)\n",
    "\n",
    "plt.show()"
   ]
  },
  {
   "cell_type": "markdown",
   "metadata": {},
   "source": [
    "The choice of a __Heavy__ or a __Light__ package will add Freight value to the transport. Also, it is considered to be the reason for a perceived high value or cheap product type (In case the product is the same)."
   ]
  },
  {
   "cell_type": "markdown",
   "metadata": {},
   "source": [
    "### Relation between the Gross Weight,  Net Weight and Volume"
   ]
  },
  {
   "cell_type": "markdown",
   "metadata": {},
   "source": [
    "So far, we have seen the _Types of Packages_ more used, and both the **heaviest** and **lightest** packages. In order to understand the relations between both of them, we might represent the dimension of it in a _plot_."
   ]
  },
  {
   "cell_type": "markdown",
   "metadata": {},
   "source": [
    "#### Gross and Net Weight"
   ]
  },
  {
   "cell_type": "code",
   "execution_count": 43,
   "metadata": {},
   "outputs": [
    {
     "data": {
      "text/plain": [
       "Text(0, 0.5, 'Net Weight')"
      ]
     },
     "execution_count": 43,
     "metadata": {},
     "output_type": "execute_result"
    },
    {
     "data": {
      "image/png": "[encoded data removed]",
      "text/plain": [
       "<Figure size 432x288 with 1 Axes>"
      ]
     },
     "metadata": {
      "needs_background": "light"
     },
     "output_type": "display_data"
    }
   ],
   "source": [
    "plt.scatter(toy_df['GW(KGS)'],toy_df['NW(KGS)'] , s=4, c='tab:green', marker=',', norm= True, alpha=0.3)\n",
    "plt.title('Net and Gross Weight Relations')\n",
    "plt.xlabel('Gross Weight')\n",
    "plt.ylabel('Net Weight')"
   ]
  },
  {
   "cell_type": "markdown",
   "metadata": {},
   "source": [
    "The gross and net weight are strong and linearly correlated between them. This allow us to predict that the gross weight, as this is highly correlated to the net weight, and we have items that are the same product (_same net weight_) but with a different package (_different gross weight_), will not vary highly except in the cases quoted as **\"heavy packages\"**"
   ]
  },
  {
   "cell_type": "markdown",
   "metadata": {},
   "source": [
    "#### Volume and Gross Weight"
   ]
  },
  {
   "cell_type": "code",
   "execution_count": 44,
   "metadata": {},
   "outputs": [
    {
     "data": {
      "text/plain": [
       "(0, 1)"
      ]
     },
     "execution_count": 44,
     "metadata": {},
     "output_type": "execute_result"
    },
    {
     "data": {
      "image/png": "[encoded data removed]",
      "text/plain": [
       "<Figure size 432x288 with 1 Axes>"
      ]
     },
     "metadata": {
      "needs_background": "light"
     },
     "output_type": "display_data"
    }
   ],
   "source": [
    "plt.scatter(toy_df['CBM'],toy_df['GW(KGS)'] ,  s=7, c='tab:blue', marker='.', norm= True, alpha=0.6)\n",
    "plt.title('Gross Weight and Volume Relations')\n",
    "plt.xlabel('Volume in Cubic Meters')\n",
    "plt.ylabel('Gross Weight')\n",
    "plt.xlim(0,1)"
   ]
  },
  {
   "cell_type": "markdown",
   "metadata": {},
   "source": [
    "The last scatterplot shows the _distribution_ of the products in respect of their _weight_ and their _size_ messured in cubic meters. From this graphic, we have an insight that there might be groups of products whether their are **weight-related cargoes** (*more weight than volume*)or **volume-related cargoes** (*more volume than weight*). "
   ]
  },
  {
   "cell_type": "code",
   "execution_count": null,
   "metadata": {},
   "outputs": [],
   "source": []
  }
 ],
 "metadata": {
  "kernelspec": {
   "display_name": "Python 3",
   "language": "python",
   "name": "python3"
  },
  "language_info": {
   "codemirror_mode": {
    "name": "ipython",
    "version": 3
   },
   "file_extension": ".py",
   "mimetype": "text/x-python",
   "name": "python",
   "nbconvert_exporter": "python",
   "pygments_lexer": "ipython3",
   "version": "3.7.4"
  }
 },
 "nbformat": 4,
 "nbformat_minor": 2
}
